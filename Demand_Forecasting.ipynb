{
  "nbformat": 4,
  "nbformat_minor": 0,
  "metadata": {
    "colab": {
      "provenance": [],
      "authorship_tag": "ABX9TyPocXz6so0eS+BXEIAaTNJn",
      "include_colab_link": true
    },
    "kernelspec": {
      "name": "python3",
      "display_name": "Python 3"
    },
    "language_info": {
      "name": "python"
    }
  },
  "cells": [
    {
      "cell_type": "markdown",
      "metadata": {
        "id": "view-in-github",
        "colab_type": "text"
      },
      "source": [
        "<a href=\"https://colab.research.google.com/github/troncosofranco/Time-Series-Forecasting/blob/main/Demand_Forecasting.ipynb\" target=\"_parent\"><img src=\"https://colab.research.google.com/assets/colab-badge.svg\" alt=\"Open In Colab\"/></a>"
      ]
    },
    {
      "cell_type": "markdown",
      "source": [
        "#Dataset\n",
        "\n",
        "The dataset was obtained from [Kaggle](https://www.kaggle.com/datasets/manjeetsingh/retaildataset?select=sales+data-set.csv). The dataset represents the sale of retail store."
      ],
      "metadata": {
        "id": "-T5AJRXcblFx"
      }
    },
    {
      "cell_type": "markdown",
      "source": [
        "#1. Import modules"
      ],
      "metadata": {
        "id": "GqzFFLjab6ez"
      }
    },
    {
      "cell_type": "code",
      "source": [
        "import pandas as pd\n",
        "import plotly.express as px\n",
        "import plotly.graph_objects as go\n",
        "import matplotlib.pyplot as plt\n",
        "import seaborn as sns"
      ],
      "metadata": {
        "id": "ROSIPq9cbk0k"
      },
      "execution_count": 1,
      "outputs": []
    },
    {
      "cell_type": "markdown",
      "source": [
        "#2. Load data"
      ],
      "metadata": {
        "id": "_gMCiB0EcEKE"
      }
    },
    {
      "cell_type": "code",
      "execution_count": 2,
      "metadata": {
        "colab": {
          "base_uri": "https://localhost:8080/"
        },
        "id": "NZyl4vYDbgfT",
        "outputId": "39f57378-5ea0-42bb-f764-120374396019"
      },
      "outputs": [
        {
          "output_type": "execute_result",
          "data": {
            "text/plain": [
              "(1000, 17)"
            ]
          },
          "metadata": {},
          "execution_count": 2
        }
      ],
      "source": [
        "df = pd.read_csv('sales_dataset.csv')\n",
        "df.shape"
      ]
    },
    {
      "cell_type": "code",
      "source": [
        "df.head()"
      ],
      "metadata": {
        "colab": {
          "base_uri": "https://localhost:8080/",
          "height": 391
        },
        "id": "MgK4-5LrcwpG",
        "outputId": "6c3ec354-a0b2-4ab1-db60-66b4f7a4bf88"
      },
      "execution_count": 3,
      "outputs": [
        {
          "output_type": "execute_result",
          "data": {
            "text/plain": [
              "    Invoice ID Branch       City Customer type  Gender  \\\n",
              "0  750-67-8428      A     Yangon        Member  Female   \n",
              "1  226-31-3081      C  Naypyitaw        Normal  Female   \n",
              "2  631-41-3108      A     Yangon        Normal    Male   \n",
              "3  123-19-1176      A     Yangon        Member    Male   \n",
              "4  373-73-7910      A     Yangon        Normal    Male   \n",
              "\n",
              "             Product line  Unit price  Quantity   Tax 5%     Total       Date  \\\n",
              "0       Health and beauty       74.69         7  26.1415  548.9715   1/5/2019   \n",
              "1  Electronic accessories       15.28         5   3.8200   80.2200   3/8/2019   \n",
              "2      Home and lifestyle       46.33         7  16.2155  340.5255   3/3/2019   \n",
              "3       Health and beauty       58.22         8  23.2880  489.0480  1/27/2019   \n",
              "4       Sports and travel       86.31         7  30.2085  634.3785   2/8/2019   \n",
              "\n",
              "    Time      Payment    cogs  gross margin percentage  gross income  Rating  \n",
              "0  13:08      Ewallet  522.83                 4.761905       26.1415     9.1  \n",
              "1  10:29         Cash   76.40                 4.761905        3.8200     9.6  \n",
              "2  13:23  Credit card  324.31                 4.761905       16.2155     7.4  \n",
              "3  20:33      Ewallet  465.76                 4.761905       23.2880     8.4  \n",
              "4  10:37      Ewallet  604.17                 4.761905       30.2085     5.3  "
            ],
            "text/html": [
              "\n",
              "  <div id=\"df-d387d8ec-8216-41c7-93c2-11e6da6f3379\">\n",
              "    <div class=\"colab-df-container\">\n",
              "      <div>\n",
              "<style scoped>\n",
              "    .dataframe tbody tr th:only-of-type {\n",
              "        vertical-align: middle;\n",
              "    }\n",
              "\n",
              "    .dataframe tbody tr th {\n",
              "        vertical-align: top;\n",
              "    }\n",
              "\n",
              "    .dataframe thead th {\n",
              "        text-align: right;\n",
              "    }\n",
              "</style>\n",
              "<table border=\"1\" class=\"dataframe\">\n",
              "  <thead>\n",
              "    <tr style=\"text-align: right;\">\n",
              "      <th></th>\n",
              "      <th>Invoice ID</th>\n",
              "      <th>Branch</th>\n",
              "      <th>City</th>\n",
              "      <th>Customer type</th>\n",
              "      <th>Gender</th>\n",
              "      <th>Product line</th>\n",
              "      <th>Unit price</th>\n",
              "      <th>Quantity</th>\n",
              "      <th>Tax 5%</th>\n",
              "      <th>Total</th>\n",
              "      <th>Date</th>\n",
              "      <th>Time</th>\n",
              "      <th>Payment</th>\n",
              "      <th>cogs</th>\n",
              "      <th>gross margin percentage</th>\n",
              "      <th>gross income</th>\n",
              "      <th>Rating</th>\n",
              "    </tr>\n",
              "  </thead>\n",
              "  <tbody>\n",
              "    <tr>\n",
              "      <th>0</th>\n",
              "      <td>750-67-8428</td>\n",
              "      <td>A</td>\n",
              "      <td>Yangon</td>\n",
              "      <td>Member</td>\n",
              "      <td>Female</td>\n",
              "      <td>Health and beauty</td>\n",
              "      <td>74.69</td>\n",
              "      <td>7</td>\n",
              "      <td>26.1415</td>\n",
              "      <td>548.9715</td>\n",
              "      <td>1/5/2019</td>\n",
              "      <td>13:08</td>\n",
              "      <td>Ewallet</td>\n",
              "      <td>522.83</td>\n",
              "      <td>4.761905</td>\n",
              "      <td>26.1415</td>\n",
              "      <td>9.1</td>\n",
              "    </tr>\n",
              "    <tr>\n",
              "      <th>1</th>\n",
              "      <td>226-31-3081</td>\n",
              "      <td>C</td>\n",
              "      <td>Naypyitaw</td>\n",
              "      <td>Normal</td>\n",
              "      <td>Female</td>\n",
              "      <td>Electronic accessories</td>\n",
              "      <td>15.28</td>\n",
              "      <td>5</td>\n",
              "      <td>3.8200</td>\n",
              "      <td>80.2200</td>\n",
              "      <td>3/8/2019</td>\n",
              "      <td>10:29</td>\n",
              "      <td>Cash</td>\n",
              "      <td>76.40</td>\n",
              "      <td>4.761905</td>\n",
              "      <td>3.8200</td>\n",
              "      <td>9.6</td>\n",
              "    </tr>\n",
              "    <tr>\n",
              "      <th>2</th>\n",
              "      <td>631-41-3108</td>\n",
              "      <td>A</td>\n",
              "      <td>Yangon</td>\n",
              "      <td>Normal</td>\n",
              "      <td>Male</td>\n",
              "      <td>Home and lifestyle</td>\n",
              "      <td>46.33</td>\n",
              "      <td>7</td>\n",
              "      <td>16.2155</td>\n",
              "      <td>340.5255</td>\n",
              "      <td>3/3/2019</td>\n",
              "      <td>13:23</td>\n",
              "      <td>Credit card</td>\n",
              "      <td>324.31</td>\n",
              "      <td>4.761905</td>\n",
              "      <td>16.2155</td>\n",
              "      <td>7.4</td>\n",
              "    </tr>\n",
              "    <tr>\n",
              "      <th>3</th>\n",
              "      <td>123-19-1176</td>\n",
              "      <td>A</td>\n",
              "      <td>Yangon</td>\n",
              "      <td>Member</td>\n",
              "      <td>Male</td>\n",
              "      <td>Health and beauty</td>\n",
              "      <td>58.22</td>\n",
              "      <td>8</td>\n",
              "      <td>23.2880</td>\n",
              "      <td>489.0480</td>\n",
              "      <td>1/27/2019</td>\n",
              "      <td>20:33</td>\n",
              "      <td>Ewallet</td>\n",
              "      <td>465.76</td>\n",
              "      <td>4.761905</td>\n",
              "      <td>23.2880</td>\n",
              "      <td>8.4</td>\n",
              "    </tr>\n",
              "    <tr>\n",
              "      <th>4</th>\n",
              "      <td>373-73-7910</td>\n",
              "      <td>A</td>\n",
              "      <td>Yangon</td>\n",
              "      <td>Normal</td>\n",
              "      <td>Male</td>\n",
              "      <td>Sports and travel</td>\n",
              "      <td>86.31</td>\n",
              "      <td>7</td>\n",
              "      <td>30.2085</td>\n",
              "      <td>634.3785</td>\n",
              "      <td>2/8/2019</td>\n",
              "      <td>10:37</td>\n",
              "      <td>Ewallet</td>\n",
              "      <td>604.17</td>\n",
              "      <td>4.761905</td>\n",
              "      <td>30.2085</td>\n",
              "      <td>5.3</td>\n",
              "    </tr>\n",
              "  </tbody>\n",
              "</table>\n",
              "</div>\n",
              "      <button class=\"colab-df-convert\" onclick=\"convertToInteractive('df-d387d8ec-8216-41c7-93c2-11e6da6f3379')\"\n",
              "              title=\"Convert this dataframe to an interactive table.\"\n",
              "              style=\"display:none;\">\n",
              "        \n",
              "  <svg xmlns=\"http://www.w3.org/2000/svg\" height=\"24px\"viewBox=\"0 0 24 24\"\n",
              "       width=\"24px\">\n",
              "    <path d=\"M0 0h24v24H0V0z\" fill=\"none\"/>\n",
              "    <path d=\"M18.56 5.44l.94 2.06.94-2.06 2.06-.94-2.06-.94-.94-2.06-.94 2.06-2.06.94zm-11 1L8.5 8.5l.94-2.06 2.06-.94-2.06-.94L8.5 2.5l-.94 2.06-2.06.94zm10 10l.94 2.06.94-2.06 2.06-.94-2.06-.94-.94-2.06-.94 2.06-2.06.94z\"/><path d=\"M17.41 7.96l-1.37-1.37c-.4-.4-.92-.59-1.43-.59-.52 0-1.04.2-1.43.59L10.3 9.45l-7.72 7.72c-.78.78-.78 2.05 0 2.83L4 21.41c.39.39.9.59 1.41.59.51 0 1.02-.2 1.41-.59l7.78-7.78 2.81-2.81c.8-.78.8-2.07 0-2.86zM5.41 20L4 18.59l7.72-7.72 1.47 1.35L5.41 20z\"/>\n",
              "  </svg>\n",
              "      </button>\n",
              "      \n",
              "  <style>\n",
              "    .colab-df-container {\n",
              "      display:flex;\n",
              "      flex-wrap:wrap;\n",
              "      gap: 12px;\n",
              "    }\n",
              "\n",
              "    .colab-df-convert {\n",
              "      background-color: #E8F0FE;\n",
              "      border: none;\n",
              "      border-radius: 50%;\n",
              "      cursor: pointer;\n",
              "      display: none;\n",
              "      fill: #1967D2;\n",
              "      height: 32px;\n",
              "      padding: 0 0 0 0;\n",
              "      width: 32px;\n",
              "    }\n",
              "\n",
              "    .colab-df-convert:hover {\n",
              "      background-color: #E2EBFA;\n",
              "      box-shadow: 0px 1px 2px rgba(60, 64, 67, 0.3), 0px 1px 3px 1px rgba(60, 64, 67, 0.15);\n",
              "      fill: #174EA6;\n",
              "    }\n",
              "\n",
              "    [theme=dark] .colab-df-convert {\n",
              "      background-color: #3B4455;\n",
              "      fill: #D2E3FC;\n",
              "    }\n",
              "\n",
              "    [theme=dark] .colab-df-convert:hover {\n",
              "      background-color: #434B5C;\n",
              "      box-shadow: 0px 1px 3px 1px rgba(0, 0, 0, 0.15);\n",
              "      filter: drop-shadow(0px 1px 2px rgba(0, 0, 0, 0.3));\n",
              "      fill: #FFFFFF;\n",
              "    }\n",
              "  </style>\n",
              "\n",
              "      <script>\n",
              "        const buttonEl =\n",
              "          document.querySelector('#df-d387d8ec-8216-41c7-93c2-11e6da6f3379 button.colab-df-convert');\n",
              "        buttonEl.style.display =\n",
              "          google.colab.kernel.accessAllowed ? 'block' : 'none';\n",
              "\n",
              "        async function convertToInteractive(key) {\n",
              "          const element = document.querySelector('#df-d387d8ec-8216-41c7-93c2-11e6da6f3379');\n",
              "          const dataTable =\n",
              "            await google.colab.kernel.invokeFunction('convertToInteractive',\n",
              "                                                     [key], {});\n",
              "          if (!dataTable) return;\n",
              "\n",
              "          const docLinkHtml = 'Like what you see? Visit the ' +\n",
              "            '<a target=\"_blank\" href=https://colab.research.google.com/notebooks/data_table.ipynb>data table notebook</a>'\n",
              "            + ' to learn more about interactive tables.';\n",
              "          element.innerHTML = '';\n",
              "          dataTable['output_type'] = 'display_data';\n",
              "          await google.colab.output.renderOutput(dataTable, element);\n",
              "          const docLink = document.createElement('div');\n",
              "          docLink.innerHTML = docLinkHtml;\n",
              "          element.appendChild(docLink);\n",
              "        }\n",
              "      </script>\n",
              "    </div>\n",
              "  </div>\n",
              "  "
            ]
          },
          "metadata": {},
          "execution_count": 3
        }
      ]
    },
    {
      "cell_type": "code",
      "source": [
        "df['Date']= df['Date'] + ' ' + df['Time']\n",
        "df.head()"
      ],
      "metadata": {
        "colab": {
          "base_uri": "https://localhost:8080/",
          "height": 391
        },
        "id": "PWuBm4H32x-T",
        "outputId": "98ba3a04-54fc-4e55-c49d-cbd9eaea3e7e"
      },
      "execution_count": 4,
      "outputs": [
        {
          "output_type": "execute_result",
          "data": {
            "text/plain": [
              "    Invoice ID Branch       City Customer type  Gender  \\\n",
              "0  750-67-8428      A     Yangon        Member  Female   \n",
              "1  226-31-3081      C  Naypyitaw        Normal  Female   \n",
              "2  631-41-3108      A     Yangon        Normal    Male   \n",
              "3  123-19-1176      A     Yangon        Member    Male   \n",
              "4  373-73-7910      A     Yangon        Normal    Male   \n",
              "\n",
              "             Product line  Unit price  Quantity   Tax 5%     Total  \\\n",
              "0       Health and beauty       74.69         7  26.1415  548.9715   \n",
              "1  Electronic accessories       15.28         5   3.8200   80.2200   \n",
              "2      Home and lifestyle       46.33         7  16.2155  340.5255   \n",
              "3       Health and beauty       58.22         8  23.2880  489.0480   \n",
              "4       Sports and travel       86.31         7  30.2085  634.3785   \n",
              "\n",
              "              Date   Time      Payment    cogs  gross margin percentage  \\\n",
              "0   1/5/2019 13:08  13:08      Ewallet  522.83                 4.761905   \n",
              "1   3/8/2019 10:29  10:29         Cash   76.40                 4.761905   \n",
              "2   3/3/2019 13:23  13:23  Credit card  324.31                 4.761905   \n",
              "3  1/27/2019 20:33  20:33      Ewallet  465.76                 4.761905   \n",
              "4   2/8/2019 10:37  10:37      Ewallet  604.17                 4.761905   \n",
              "\n",
              "   gross income  Rating  \n",
              "0       26.1415     9.1  \n",
              "1        3.8200     9.6  \n",
              "2       16.2155     7.4  \n",
              "3       23.2880     8.4  \n",
              "4       30.2085     5.3  "
            ],
            "text/html": [
              "\n",
              "  <div id=\"df-ad72d8b3-bcab-4792-82f5-0dd0e6c9590f\">\n",
              "    <div class=\"colab-df-container\">\n",
              "      <div>\n",
              "<style scoped>\n",
              "    .dataframe tbody tr th:only-of-type {\n",
              "        vertical-align: middle;\n",
              "    }\n",
              "\n",
              "    .dataframe tbody tr th {\n",
              "        vertical-align: top;\n",
              "    }\n",
              "\n",
              "    .dataframe thead th {\n",
              "        text-align: right;\n",
              "    }\n",
              "</style>\n",
              "<table border=\"1\" class=\"dataframe\">\n",
              "  <thead>\n",
              "    <tr style=\"text-align: right;\">\n",
              "      <th></th>\n",
              "      <th>Invoice ID</th>\n",
              "      <th>Branch</th>\n",
              "      <th>City</th>\n",
              "      <th>Customer type</th>\n",
              "      <th>Gender</th>\n",
              "      <th>Product line</th>\n",
              "      <th>Unit price</th>\n",
              "      <th>Quantity</th>\n",
              "      <th>Tax 5%</th>\n",
              "      <th>Total</th>\n",
              "      <th>Date</th>\n",
              "      <th>Time</th>\n",
              "      <th>Payment</th>\n",
              "      <th>cogs</th>\n",
              "      <th>gross margin percentage</th>\n",
              "      <th>gross income</th>\n",
              "      <th>Rating</th>\n",
              "    </tr>\n",
              "  </thead>\n",
              "  <tbody>\n",
              "    <tr>\n",
              "      <th>0</th>\n",
              "      <td>750-67-8428</td>\n",
              "      <td>A</td>\n",
              "      <td>Yangon</td>\n",
              "      <td>Member</td>\n",
              "      <td>Female</td>\n",
              "      <td>Health and beauty</td>\n",
              "      <td>74.69</td>\n",
              "      <td>7</td>\n",
              "      <td>26.1415</td>\n",
              "      <td>548.9715</td>\n",
              "      <td>1/5/2019 13:08</td>\n",
              "      <td>13:08</td>\n",
              "      <td>Ewallet</td>\n",
              "      <td>522.83</td>\n",
              "      <td>4.761905</td>\n",
              "      <td>26.1415</td>\n",
              "      <td>9.1</td>\n",
              "    </tr>\n",
              "    <tr>\n",
              "      <th>1</th>\n",
              "      <td>226-31-3081</td>\n",
              "      <td>C</td>\n",
              "      <td>Naypyitaw</td>\n",
              "      <td>Normal</td>\n",
              "      <td>Female</td>\n",
              "      <td>Electronic accessories</td>\n",
              "      <td>15.28</td>\n",
              "      <td>5</td>\n",
              "      <td>3.8200</td>\n",
              "      <td>80.2200</td>\n",
              "      <td>3/8/2019 10:29</td>\n",
              "      <td>10:29</td>\n",
              "      <td>Cash</td>\n",
              "      <td>76.40</td>\n",
              "      <td>4.761905</td>\n",
              "      <td>3.8200</td>\n",
              "      <td>9.6</td>\n",
              "    </tr>\n",
              "    <tr>\n",
              "      <th>2</th>\n",
              "      <td>631-41-3108</td>\n",
              "      <td>A</td>\n",
              "      <td>Yangon</td>\n",
              "      <td>Normal</td>\n",
              "      <td>Male</td>\n",
              "      <td>Home and lifestyle</td>\n",
              "      <td>46.33</td>\n",
              "      <td>7</td>\n",
              "      <td>16.2155</td>\n",
              "      <td>340.5255</td>\n",
              "      <td>3/3/2019 13:23</td>\n",
              "      <td>13:23</td>\n",
              "      <td>Credit card</td>\n",
              "      <td>324.31</td>\n",
              "      <td>4.761905</td>\n",
              "      <td>16.2155</td>\n",
              "      <td>7.4</td>\n",
              "    </tr>\n",
              "    <tr>\n",
              "      <th>3</th>\n",
              "      <td>123-19-1176</td>\n",
              "      <td>A</td>\n",
              "      <td>Yangon</td>\n",
              "      <td>Member</td>\n",
              "      <td>Male</td>\n",
              "      <td>Health and beauty</td>\n",
              "      <td>58.22</td>\n",
              "      <td>8</td>\n",
              "      <td>23.2880</td>\n",
              "      <td>489.0480</td>\n",
              "      <td>1/27/2019 20:33</td>\n",
              "      <td>20:33</td>\n",
              "      <td>Ewallet</td>\n",
              "      <td>465.76</td>\n",
              "      <td>4.761905</td>\n",
              "      <td>23.2880</td>\n",
              "      <td>8.4</td>\n",
              "    </tr>\n",
              "    <tr>\n",
              "      <th>4</th>\n",
              "      <td>373-73-7910</td>\n",
              "      <td>A</td>\n",
              "      <td>Yangon</td>\n",
              "      <td>Normal</td>\n",
              "      <td>Male</td>\n",
              "      <td>Sports and travel</td>\n",
              "      <td>86.31</td>\n",
              "      <td>7</td>\n",
              "      <td>30.2085</td>\n",
              "      <td>634.3785</td>\n",
              "      <td>2/8/2019 10:37</td>\n",
              "      <td>10:37</td>\n",
              "      <td>Ewallet</td>\n",
              "      <td>604.17</td>\n",
              "      <td>4.761905</td>\n",
              "      <td>30.2085</td>\n",
              "      <td>5.3</td>\n",
              "    </tr>\n",
              "  </tbody>\n",
              "</table>\n",
              "</div>\n",
              "      <button class=\"colab-df-convert\" onclick=\"convertToInteractive('df-ad72d8b3-bcab-4792-82f5-0dd0e6c9590f')\"\n",
              "              title=\"Convert this dataframe to an interactive table.\"\n",
              "              style=\"display:none;\">\n",
              "        \n",
              "  <svg xmlns=\"http://www.w3.org/2000/svg\" height=\"24px\"viewBox=\"0 0 24 24\"\n",
              "       width=\"24px\">\n",
              "    <path d=\"M0 0h24v24H0V0z\" fill=\"none\"/>\n",
              "    <path d=\"M18.56 5.44l.94 2.06.94-2.06 2.06-.94-2.06-.94-.94-2.06-.94 2.06-2.06.94zm-11 1L8.5 8.5l.94-2.06 2.06-.94-2.06-.94L8.5 2.5l-.94 2.06-2.06.94zm10 10l.94 2.06.94-2.06 2.06-.94-2.06-.94-.94-2.06-.94 2.06-2.06.94z\"/><path d=\"M17.41 7.96l-1.37-1.37c-.4-.4-.92-.59-1.43-.59-.52 0-1.04.2-1.43.59L10.3 9.45l-7.72 7.72c-.78.78-.78 2.05 0 2.83L4 21.41c.39.39.9.59 1.41.59.51 0 1.02-.2 1.41-.59l7.78-7.78 2.81-2.81c.8-.78.8-2.07 0-2.86zM5.41 20L4 18.59l7.72-7.72 1.47 1.35L5.41 20z\"/>\n",
              "  </svg>\n",
              "      </button>\n",
              "      \n",
              "  <style>\n",
              "    .colab-df-container {\n",
              "      display:flex;\n",
              "      flex-wrap:wrap;\n",
              "      gap: 12px;\n",
              "    }\n",
              "\n",
              "    .colab-df-convert {\n",
              "      background-color: #E8F0FE;\n",
              "      border: none;\n",
              "      border-radius: 50%;\n",
              "      cursor: pointer;\n",
              "      display: none;\n",
              "      fill: #1967D2;\n",
              "      height: 32px;\n",
              "      padding: 0 0 0 0;\n",
              "      width: 32px;\n",
              "    }\n",
              "\n",
              "    .colab-df-convert:hover {\n",
              "      background-color: #E2EBFA;\n",
              "      box-shadow: 0px 1px 2px rgba(60, 64, 67, 0.3), 0px 1px 3px 1px rgba(60, 64, 67, 0.15);\n",
              "      fill: #174EA6;\n",
              "    }\n",
              "\n",
              "    [theme=dark] .colab-df-convert {\n",
              "      background-color: #3B4455;\n",
              "      fill: #D2E3FC;\n",
              "    }\n",
              "\n",
              "    [theme=dark] .colab-df-convert:hover {\n",
              "      background-color: #434B5C;\n",
              "      box-shadow: 0px 1px 3px 1px rgba(0, 0, 0, 0.15);\n",
              "      filter: drop-shadow(0px 1px 2px rgba(0, 0, 0, 0.3));\n",
              "      fill: #FFFFFF;\n",
              "    }\n",
              "  </style>\n",
              "\n",
              "      <script>\n",
              "        const buttonEl =\n",
              "          document.querySelector('#df-ad72d8b3-bcab-4792-82f5-0dd0e6c9590f button.colab-df-convert');\n",
              "        buttonEl.style.display =\n",
              "          google.colab.kernel.accessAllowed ? 'block' : 'none';\n",
              "\n",
              "        async function convertToInteractive(key) {\n",
              "          const element = document.querySelector('#df-ad72d8b3-bcab-4792-82f5-0dd0e6c9590f');\n",
              "          const dataTable =\n",
              "            await google.colab.kernel.invokeFunction('convertToInteractive',\n",
              "                                                     [key], {});\n",
              "          if (!dataTable) return;\n",
              "\n",
              "          const docLinkHtml = 'Like what you see? Visit the ' +\n",
              "            '<a target=\"_blank\" href=https://colab.research.google.com/notebooks/data_table.ipynb>data table notebook</a>'\n",
              "            + ' to learn more about interactive tables.';\n",
              "          element.innerHTML = '';\n",
              "          dataTable['output_type'] = 'display_data';\n",
              "          await google.colab.output.renderOutput(dataTable, element);\n",
              "          const docLink = document.createElement('div');\n",
              "          docLink.innerHTML = docLinkHtml;\n",
              "          element.appendChild(docLink);\n",
              "        }\n",
              "      </script>\n",
              "    </div>\n",
              "  </div>\n",
              "  "
            ]
          },
          "metadata": {},
          "execution_count": 4
        }
      ]
    },
    {
      "cell_type": "code",
      "source": [
        "df = df.sort_values(by='Date',ascending=True)"
      ],
      "metadata": {
        "id": "nI6B4NW7gYOC"
      },
      "execution_count": 5,
      "outputs": []
    },
    {
      "cell_type": "markdown",
      "source": [
        "Plot timeseries"
      ],
      "metadata": {
        "id": "rLwM-SWuccr2"
      }
    },
    {
      "cell_type": "code",
      "source": [
        "fig = px.line(df, x='Date', y='gross income', title='Single Product Demand', width=800, height=400)\n",
        "fig.update_traces(line_color='#4169E1')\n",
        "fig.show()\n"
      ],
      "metadata": {
        "colab": {
          "base_uri": "https://localhost:8080/",
          "height": 417
        },
        "id": "BjhquH-FcX0t",
        "outputId": "60b80f84-1159-4ad1-94ba-914f212e1bb5"
      },
      "execution_count": 6,
      "outputs": [
        {
          "output_type": "display_data",
          "data": {
            "text/html": [
              "<html>\n",
              "<head><meta charset=\"utf-8\" /></head>\n",
              "<body>\n",
              "    <div>            <script src=\"https://cdnjs.cloudflare.com/ajax/libs/mathjax/2.7.5/MathJax.js?config=TeX-AMS-MML_SVG\"></script><script type=\"text/javascript\">if (window.MathJax) {MathJax.Hub.Config({SVG: {font: \"STIX-Web\"}});}</script>                <script type=\"text/javascript\">window.PlotlyConfig = {MathJaxConfig: 'local'};</script>\n",
              "        <script src=\"https://cdn.plot.ly/plotly-2.8.3.min.js\"></script>                <div id=\"593b1d0e-16e3-422c-8711-d79747b7fc2d\" class=\"plotly-graph-div\" style=\"height:400px; width:800px;\"></div>            <script type=\"text/javascript\">                                    window.PLOTLYENV=window.PLOTLYENV || {};                                    if (document.getElementById(\"593b1d0e-16e3-422c-8711-d79747b7fc2d\")) {                    Plotly.newPlot(                        \"593b1d0e-16e3-422c-8711-d79747b7fc2d\",                        [{\"hovertemplate\":\"Date=%{x}<br>gross income=%{y}<extra></extra>\",\"legendgroup\":\"\",\"line\":{\"color\":\"#4169E1\",\"dash\":\"solid\"},\"marker\":{\"symbol\":\"circle\"},\"mode\":\"lines\",\"name\":\"\",\"orientation\":\"v\",\"showlegend\":false,\"x\":[\"1/1/2019 10:39\",\"1/1/2019 11:36\",\"1/1/2019 11:40\",\"1/1/2019 11:43\",\"1/1/2019 13:55\",\"1/1/2019 14:42\",\"1/1/2019 14:47\",\"1/1/2019 15:51\",\"1/1/2019 19:07\",\"1/1/2019 19:31\",\"1/1/2019 19:48\",\"1/1/2019 20:26\",\"1/10/2019 10:31\",\"1/10/2019 10:33\",\"1/10/2019 11:10\",\"1/10/2019 11:34\",\"1/10/2019 14:16\",\"1/10/2019 14:49\",\"1/10/2019 16:42\",\"1/10/2019 17:15\",\"1/10/2019 17:16\",\"1/11/2019 10:37\",\"1/11/2019 11:20\",\"1/11/2019 11:52\",\"1/11/2019 13:57\",\"1/11/2019 14:29\",\"1/11/2019 16:49\",\"1/11/2019 19:07\",\"1/11/2019 20:10\",\"1/12/2019 11:25\",\"1/12/2019 11:42\",\"1/12/2019 12:02\",\"1/12/2019 14:50\",\"1/12/2019 15:48\",\"1/12/2019 16:18\",\"1/12/2019 16:23\",\"1/12/2019 16:45\",\"1/12/2019 17:13\",\"1/12/2019 18:22\",\"1/12/2019 20:07\",\"1/13/2019 10:03\",\"1/13/2019 12:55\",\"1/13/2019 13:58\",\"1/13/2019 14:55\",\"1/13/2019 17:04\",\"1/13/2019 17:54\",\"1/13/2019 19:14\",\"1/13/2019 19:30\",\"1/13/2019 19:51\",\"1/13/2019 19:55\",\"1/14/2019 10:02\",\"1/14/2019 10:11\",\"1/14/2019 10:38\",\"1/14/2019 10:55\",\"1/14/2019 12:09\",\"1/14/2019 12:52\",\"1/14/2019 14:00\",\"1/14/2019 14:43\",\"1/14/2019 15:20\",\"1/14/2019 15:42\",\"1/14/2019 18:03\",\"1/14/2019 19:06\",\"1/14/2019 19:30\",\"1/15/2019 10:43\",\"1/15/2019 10:54\",\"1/15/2019 13:41\",\"1/15/2019 13:48\",\"1/15/2019 15:01\",\"1/15/2019 15:01\",\"1/15/2019 15:42\",\"1/15/2019 16:19\",\"1/15/2019 17:17\",\"1/15/2019 17:24\",\"1/15/2019 18:22\",\"1/15/2019 19:25\",\"1/15/2019 20:44\",\"1/16/2019 12:07\",\"1/16/2019 13:32\",\"1/16/2019 14:42\",\"1/16/2019 15:10\",\"1/16/2019 15:26\",\"1/16/2019 17:59\",\"1/16/2019 18:03\",\"1/16/2019 18:08\",\"1/16/2019 18:41\",\"1/16/2019 20:03\",\"1/17/2019 10:01\",\"1/17/2019 10:37\",\"1/17/2019 12:36\",\"1/17/2019 12:48\",\"1/17/2019 13:01\",\"1/17/2019 15:05\",\"1/17/2019 15:15\",\"1/17/2019 15:27\",\"1/17/2019 16:46\",\"1/17/2019 17:59\",\"1/17/2019 18:45\",\"1/18/2019 10:11\",\"1/18/2019 12:04\",\"1/18/2019 15:04\",\"1/18/2019 15:08\",\"1/18/2019 15:28\",\"1/18/2019 16:23\",\"1/18/2019 17:26\",\"1/18/2019 18:43\",\"1/18/2019 20:59\",\"1/19/2019 10:17\",\"1/19/2019 10:21\",\"1/19/2019 11:43\",\"1/19/2019 12:46\",\"1/19/2019 12:47\",\"1/19/2019 13:11\",\"1/19/2019 14:08\",\"1/19/2019 15:28\",\"1/19/2019 15:58\",\"1/19/2019 16:08\",\"1/19/2019 16:31\",\"1/19/2019 17:34\",\"1/19/2019 19:30\",\"1/19/2019 19:39\",\"1/19/2019 20:07\",\"1/19/2019 20:29\",\"1/2/2019 13:00\",\"1/2/2019 13:40\",\"1/2/2019 15:24\",\"1/2/2019 16:19\",\"1/2/2019 16:57\",\"1/2/2019 18:09\",\"1/2/2019 18:50\",\"1/2/2019 20:08\",\"1/20/2019 10:13\",\"1/20/2019 12:27\",\"1/20/2019 13:45\",\"1/20/2019 15:48\",\"1/20/2019 15:55\",\"1/20/2019 16:51\",\"1/20/2019 17:48\",\"1/20/2019 18:09\",\"1/20/2019 20:37\",\"1/20/2019 20:38\",\"1/21/2019 10:00\",\"1/21/2019 14:42\",\"1/21/2019 16:37\",\"1/21/2019 17:36\",\"1/21/2019 17:44\",\"1/21/2019 18:00\",\"1/21/2019 18:01\",\"1/21/2019 20:13\",\"1/22/2019 10:55\",\"1/22/2019 10:57\",\"1/22/2019 11:00\",\"1/22/2019 11:52\",\"1/22/2019 18:08\",\"1/22/2019 18:56\",\"1/22/2019 20:46\",\"1/23/2019 10:18\",\"1/23/2019 10:25\",\"1/23/2019 10:28\",\"1/23/2019 10:33\",\"1/23/2019 11:15\",\"1/23/2019 11:22\",\"1/23/2019 11:51\",\"1/23/2019 12:10\",\"1/23/2019 12:20\",\"1/23/2019 12:35\",\"1/23/2019 13:00\",\"1/23/2019 13:29\",\"1/23/2019 14:04\",\"1/23/2019 14:21\",\"1/23/2019 17:16\",\"1/23/2019 17:44\",\"1/23/2019 18:37\",\"1/24/2019 10:04\",\"1/24/2019 10:38\",\"1/24/2019 10:57\",\"1/24/2019 11:45\",\"1/24/2019 13:24\",\"1/24/2019 15:05\",\"1/24/2019 17:37\",\"1/24/2019 17:43\",\"1/24/2019 18:04\",\"1/24/2019 18:10\",\"1/24/2019 19:20\",\"1/24/2019 20:36\",\"1/24/2019 20:59\",\"1/25/2019 10:11\",\"1/25/2019 11:05\",\"1/25/2019 11:40\",\"1/25/2019 13:18\",\"1/25/2019 13:30\",\"1/25/2019 13:38\",\"1/25/2019 13:48\",\"1/25/2019 14:19\",\"1/25/2019 14:29\",\"1/25/2019 15:00\",\"1/25/2019 15:46\",\"1/25/2019 15:54\",\"1/25/2019 16:28\",\"1/25/2019 18:30\",\"1/25/2019 19:39\",\"1/25/2019 19:48\",\"1/25/2019 20:24\",\"1/26/2019 10:06\",\"1/26/2019 12:43\",\"1/26/2019 12:45\",\"1/26/2019 14:41\",\"1/26/2019 14:51\",\"1/26/2019 15:11\",\"1/26/2019 15:17\",\"1/26/2019 16:04\",\"1/26/2019 17:45\",\"1/26/2019 18:19\",\"1/26/2019 18:22\",\"1/26/2019 18:53\",\"1/26/2019 19:14\",\"1/26/2019 19:28\",\"1/26/2019 19:54\",\"1/26/2019 19:56\",\"1/26/2019 20:23\",\"1/27/2019 10:44\",\"1/27/2019 11:17\",\"1/27/2019 13:26\",\"1/27/2019 13:58\",\"1/27/2019 14:28\",\"1/27/2019 14:36\",\"1/27/2019 14:55\",\"1/27/2019 15:51\",\"1/27/2019 17:38\",\"1/27/2019 18:05\",\"1/27/2019 18:08\",\"1/27/2019 19:48\",\"1/27/2019 20:03\",\"1/27/2019 20:33\",\"1/28/2019 11:51\",\"1/28/2019 12:43\",\"1/28/2019 13:05\",\"1/28/2019 13:53\",\"1/28/2019 15:16\",\"1/28/2019 15:46\",\"1/28/2019 16:43\",\"1/28/2019 16:47\",\"1/28/2019 17:35\",\"1/28/2019 17:47\",\"1/28/2019 17:58\",\"1/28/2019 19:24\",\"1/28/2019 20:50\",\"1/28/2019 20:54\",\"1/29/2019 10:01\",\"1/29/2019 10:48\",\"1/29/2019 11:26\",\"1/29/2019 11:48\",\"1/29/2019 11:56\",\"1/29/2019 12:25\",\"1/29/2019 13:46\",\"1/29/2019 14:12\",\"1/29/2019 14:26\",\"1/29/2019 15:48\",\"1/29/2019 18:15\",\"1/29/2019 19:45\",\"1/3/2019 10:30\",\"1/3/2019 11:36\",\"1/3/2019 12:02\",\"1/3/2019 13:07\",\"1/3/2019 16:47\",\"1/3/2019 19:08\",\"1/3/2019 19:17\",\"1/3/2019 20:24\",\"1/30/2019 11:32\",\"1/30/2019 13:32\",\"1/30/2019 13:58\",\"1/30/2019 14:43\",\"1/30/2019 16:24\",\"1/30/2019 17:08\",\"1/30/2019 19:42\",\"1/30/2019 20:23\",\"1/30/2019 20:47\",\"1/31/2019 10:00\",\"1/31/2019 10:33\",\"1/31/2019 10:36\",\"1/31/2019 10:46\",\"1/31/2019 12:02\",\"1/31/2019 13:19\",\"1/31/2019 13:44\",\"1/31/2019 13:47\",\"1/31/2019 14:04\",\"1/31/2019 15:12\",\"1/31/2019 16:24\",\"1/31/2019 19:48\",\"1/31/2019 20:32\",\"1/31/2019 20:48\",\"1/4/2019 13:21\",\"1/4/2019 13:24\",\"1/4/2019 13:34\",\"1/4/2019 18:19\",\"1/4/2019 19:01\",\"1/4/2019 19:40\",\"1/5/2019 11:25\",\"1/5/2019 11:32\",\"1/5/2019 11:51\",\"1/5/2019 12:40\",\"1/5/2019 13:08\",\"1/5/2019 16:05\",\"1/5/2019 17:29\",\"1/5/2019 19:48\",\"1/5/2019 19:50\",\"1/5/2019 20:30\",\"1/5/2019 20:40\",\"1/5/2019 20:54\",\"1/6/2019 11:09\",\"1/6/2019 11:18\",\"1/6/2019 11:23\",\"1/6/2019 11:51\",\"1/6/2019 12:12\",\"1/6/2019 12:46\",\"1/6/2019 13:35\",\"1/6/2019 13:58\",\"1/6/2019 19:46\",\"1/7/2019 11:44\",\"1/7/2019 12:08\",\"1/7/2019 12:20\",\"1/7/2019 12:28\",\"1/7/2019 12:37\",\"1/7/2019 15:01\",\"1/7/2019 16:11\",\"1/7/2019 17:36\",\"1/7/2019 20:52\",\"1/8/2019 11:42\",\"1/8/2019 11:59\",\"1/8/2019 12:50\",\"1/8/2019 12:58\",\"1/8/2019 13:05\",\"1/8/2019 13:48\",\"1/8/2019 14:11\",\"1/8/2019 14:25\",\"1/8/2019 14:30\",\"1/8/2019 15:57\",\"1/8/2019 16:17\",\"1/8/2019 17:12\",\"1/8/2019 18:06\",\"1/8/2019 19:07\",\"1/8/2019 19:09\",\"1/8/2019 19:38\",\"1/8/2019 20:08\",\"1/8/2019 20:55\",\"1/9/2019 11:40\",\"1/9/2019 12:07\",\"1/9/2019 13:34\",\"1/9/2019 13:45\",\"1/9/2019 13:46\",\"1/9/2019 14:20\",\"1/9/2019 16:34\",\"1/9/2019 18:43\",\"2/1/2019 10:08\",\"2/1/2019 11:27\",\"2/1/2019 15:10\",\"2/1/2019 18:43\",\"2/1/2019 19:54\",\"2/1/2019 20:31\",\"2/10/2019 12:28\",\"2/10/2019 12:45\",\"2/10/2019 12:50\",\"2/10/2019 12:56\",\"2/10/2019 13:51\",\"2/10/2019 13:56\",\"2/10/2019 15:10\",\"2/10/2019 15:43\",\"2/10/2019 18:23\",\"2/10/2019 18:36\",\"2/10/2019 20:51\",\"2/11/2019 10:38\",\"2/11/2019 10:39\",\"2/11/2019 10:54\",\"2/11/2019 15:29\",\"2/11/2019 15:42\",\"2/11/2019 16:06\",\"2/11/2019 16:19\",\"2/11/2019 18:38\",\"2/12/2019 10:25\",\"2/12/2019 12:58\",\"2/12/2019 14:33\",\"2/12/2019 14:45\",\"2/12/2019 16:19\",\"2/12/2019 17:49\",\"2/12/2019 19:01\",\"2/12/2019 19:43\",\"2/13/2019 10:50\",\"2/13/2019 12:14\",\"2/13/2019 12:38\",\"2/13/2019 13:59\",\"2/13/2019 15:06\",\"2/13/2019 16:59\",\"2/13/2019 18:15\",\"2/13/2019 18:27\",\"2/14/2019 11:26\",\"2/14/2019 11:36\",\"2/14/2019 12:42\",\"2/14/2019 14:35\",\"2/14/2019 14:42\",\"2/14/2019 15:04\",\"2/14/2019 17:03\",\"2/14/2019 17:29\",\"2/15/2019 10:36\",\"2/15/2019 11:21\",\"2/15/2019 12:12\",\"2/15/2019 12:31\",\"2/15/2019 12:42\",\"2/15/2019 12:44\",\"2/15/2019 13:30\",\"2/15/2019 13:51\",\"2/15/2019 14:15\",\"2/15/2019 14:53\",\"2/15/2019 15:21\",\"2/15/2019 17:01\",\"2/15/2019 17:10\",\"2/15/2019 17:38\",\"2/15/2019 17:47\",\"2/15/2019 18:03\",\"2/15/2019 20:21\",\"2/15/2019 20:21\",\"2/15/2019 20:51\",\"2/16/2019 10:33\",\"2/16/2019 10:52\",\"2/16/2019 12:21\",\"2/16/2019 14:19\",\"2/16/2019 15:42\",\"2/16/2019 15:53\",\"2/16/2019 17:30\",\"2/16/2019 18:04\",\"2/17/2019 11:12\",\"2/17/2019 11:15\",\"2/17/2019 13:34\",\"2/17/2019 14:40\",\"2/17/2019 15:28\",\"2/17/2019 16:27\",\"2/17/2019 16:50\",\"2/17/2019 17:09\",\"2/17/2019 17:27\",\"2/17/2019 18:06\",\"2/17/2019 19:11\",\"2/17/2019 19:41\",\"2/17/2019 19:57\",\"2/18/2019 11:40\",\"2/18/2019 13:28\",\"2/18/2019 14:42\",\"2/18/2019 15:39\",\"2/18/2019 16:28\",\"2/18/2019 19:39\",\"2/18/2019 20:29\",\"2/19/2019 10:12\",\"2/19/2019 11:33\",\"2/19/2019 14:53\",\"2/19/2019 15:07\",\"2/19/2019 15:14\",\"2/19/2019 16:23\",\"2/19/2019 19:24\",\"2/19/2019 19:29\",\"2/19/2019 19:38\",\"2/2/2019 10:11\",\"2/2/2019 12:40\",\"2/2/2019 13:23\",\"2/2/2019 14:05\",\"2/2/2019 15:34\",\"2/2/2019 15:47\",\"2/2/2019 16:33\",\"2/2/2019 18:31\",\"2/2/2019 18:42\",\"2/2/2019 18:50\",\"2/2/2019 19:40\",\"2/2/2019 20:29\",\"2/2/2019 20:42\",\"2/2/2019 20:48\",\"2/20/2019 13:06\",\"2/20/2019 13:24\",\"2/20/2019 13:27\",\"2/20/2019 15:18\",\"2/20/2019 15:24\",\"2/20/2019 15:29\",\"2/20/2019 15:55\",\"2/20/2019 16:49\",\"2/20/2019 18:01\",\"2/20/2019 18:43\",\"2/21/2019 10:26\",\"2/21/2019 11:39\",\"2/21/2019 12:38\",\"2/21/2019 12:40\",\"2/21/2019 16:55\",\"2/21/2019 18:31\",\"2/22/2019 10:36\",\"2/22/2019 10:43\",\"2/22/2019 10:49\",\"2/22/2019 11:26\",\"2/22/2019 12:10\",\"2/22/2019 12:30\",\"2/22/2019 15:15\",\"2/22/2019 15:33\",\"2/22/2019 18:17\",\"2/22/2019 18:19\",\"2/22/2019 18:35\",\"2/23/2019 11:12\",\"2/23/2019 12:29\",\"2/23/2019 16:52\",\"2/23/2019 18:30\",\"2/23/2019 18:45\",\"2/23/2019 19:49\",\"2/23/2019 20:00\",\"2/23/2019 20:43\",\"2/24/2019 10:10\",\"2/24/2019 10:55\",\"2/24/2019 11:38\",\"2/24/2019 13:02\",\"2/24/2019 13:08\",\"2/24/2019 14:26\",\"2/24/2019 16:44\",\"2/24/2019 18:06\",\"2/24/2019 19:57\",\"2/25/2019 11:24\",\"2/25/2019 11:58\",\"2/25/2019 13:22\",\"2/25/2019 14:12\",\"2/25/2019 14:36\",\"2/25/2019 15:31\",\"2/25/2019 16:03\",\"2/25/2019 16:21\",\"2/25/2019 16:36\",\"2/25/2019 17:16\",\"2/25/2019 17:16\",\"2/25/2019 18:37\",\"2/25/2019 18:45\",\"2/25/2019 19:39\",\"2/25/2019 20:19\",\"2/25/2019 20:35\",\"2/26/2019 10:52\",\"2/26/2019 11:48\",\"2/26/2019 11:58\",\"2/26/2019 12:28\",\"2/26/2019 15:10\",\"2/26/2019 16:52\",\"2/26/2019 17:46\",\"2/26/2019 19:24\",\"2/26/2019 20:26\",\"2/27/2019 10:23\",\"2/27/2019 11:06\",\"2/27/2019 11:40\",\"2/27/2019 12:22\",\"2/27/2019 12:52\",\"2/27/2019 15:12\",\"2/27/2019 16:10\",\"2/27/2019 17:24\",\"2/27/2019 17:27\",\"2/27/2019 17:36\",\"2/27/2019 17:55\",\"2/27/2019 18:24\",\"2/27/2019 18:57\",\"2/27/2019 19:01\",\"2/28/2019 14:42\",\"2/28/2019 17:38\",\"2/28/2019 18:37\",\"2/28/2019 19:01\",\"2/28/2019 19:33\",\"2/28/2019 20:18\",\"2/3/2019 10:02\",\"2/3/2019 10:19\",\"2/3/2019 10:31\",\"2/3/2019 11:25\",\"2/3/2019 11:46\",\"2/3/2019 13:40\",\"2/3/2019 14:35\",\"2/3/2019 14:38\",\"2/3/2019 15:19\",\"2/3/2019 15:53\",\"2/3/2019 15:59\",\"2/3/2019 16:40\",\"2/3/2019 17:24\",\"2/3/2019 20:13\",\"2/4/2019 10:23\",\"2/4/2019 12:14\",\"2/4/2019 12:50\",\"2/4/2019 13:21\",\"2/4/2019 13:38\",\"2/4/2019 15:44\",\"2/4/2019 16:09\",\"2/4/2019 16:38\",\"2/4/2019 18:53\",\"2/4/2019 19:38\",\"2/4/2019 20:43\",\"2/5/2019 10:16\",\"2/5/2019 10:17\",\"2/5/2019 10:41\",\"2/5/2019 11:32\",\"2/5/2019 11:51\",\"2/5/2019 12:34\",\"2/5/2019 14:14\",\"2/5/2019 15:26\",\"2/5/2019 18:45\",\"2/5/2019 19:05\",\"2/5/2019 19:42\",\"2/5/2019 19:57\",\"2/6/2019 10:22\",\"2/6/2019 10:42\",\"2/6/2019 13:55\",\"2/6/2019 14:24\",\"2/6/2019 14:51\",\"2/6/2019 15:16\",\"2/6/2019 15:47\",\"2/6/2019 17:20\",\"2/6/2019 18:07\",\"2/6/2019 18:33\",\"2/6/2019 18:44\",\"2/6/2019 19:20\",\"2/6/2019 20:05\",\"2/7/2019 10:09\",\"2/7/2019 10:18\",\"2/7/2019 11:28\",\"2/7/2019 11:28\",\"2/7/2019 11:36\",\"2/7/2019 12:23\",\"2/7/2019 13:05\",\"2/7/2019 14:13\",\"2/7/2019 14:15\",\"2/7/2019 14:27\",\"2/7/2019 14:38\",\"2/7/2019 15:06\",\"2/7/2019 15:55\",\"2/7/2019 16:48\",\"2/7/2019 17:55\",\"2/7/2019 17:59\",\"2/7/2019 18:23\",\"2/7/2019 18:48\",\"2/7/2019 19:30\",\"2/7/2019 20:24\",\"2/8/2019 10:37\",\"2/8/2019 10:53\",\"2/8/2019 10:58\",\"2/8/2019 11:15\",\"2/8/2019 11:39\",\"2/8/2019 12:52\",\"2/8/2019 13:00\",\"2/8/2019 13:03\",\"2/8/2019 13:12\",\"2/8/2019 15:26\",\"2/8/2019 15:31\",\"2/8/2019 16:20\",\"2/9/2019 10:00\",\"2/9/2019 10:02\",\"2/9/2019 10:25\",\"2/9/2019 11:00\",\"2/9/2019 11:45\",\"2/9/2019 12:02\",\"2/9/2019 13:11\",\"2/9/2019 13:22\",\"2/9/2019 17:15\",\"2/9/2019 18:58\",\"2/9/2019 19:17\",\"2/9/2019 19:43\",\"2/9/2019 20:31\",\"3/1/2019 10:22\",\"3/1/2019 11:30\",\"3/1/2019 12:15\",\"3/1/2019 13:22\",\"3/1/2019 15:32\",\"3/1/2019 15:40\",\"3/1/2019 16:23\",\"3/1/2019 18:14\",\"3/1/2019 19:49\",\"3/1/2019 20:03\",\"3/10/2019 12:17\",\"3/10/2019 12:39\",\"3/10/2019 14:04\",\"3/10/2019 15:06\",\"3/10/2019 17:38\",\"3/10/2019 18:10\",\"3/10/2019 18:44\",\"3/10/2019 18:55\",\"3/10/2019 18:59\",\"3/10/2019 19:15\",\"3/10/2019 19:35\",\"3/10/2019 20:46\",\"3/11/2019 11:03\",\"3/11/2019 12:01\",\"3/11/2019 12:04\",\"3/11/2019 12:55\",\"3/11/2019 13:28\",\"3/11/2019 13:37\",\"3/11/2019 15:30\",\"3/11/2019 15:53\",\"3/11/2019 16:07\",\"3/11/2019 18:58\",\"3/11/2019 19:44\",\"3/12/2019 11:01\",\"3/12/2019 12:09\",\"3/12/2019 12:43\",\"3/12/2019 13:52\",\"3/12/2019 14:21\",\"3/12/2019 16:30\",\"3/12/2019 16:46\",\"3/12/2019 19:39\",\"3/12/2019 19:53\",\"3/12/2019 19:58\",\"3/12/2019 20:04\",\"3/12/2019 20:36\",\"3/13/2019 11:46\",\"3/13/2019 12:47\",\"3/13/2019 12:51\",\"3/13/2019 14:16\",\"3/13/2019 15:45\",\"3/13/2019 16:40\",\"3/13/2019 19:22\",\"3/13/2019 19:44\",\"3/13/2019 19:48\",\"3/13/2019 19:52\",\"3/14/2019 11:07\",\"3/14/2019 11:16\",\"3/14/2019 11:21\",\"3/14/2019 12:07\",\"3/14/2019 12:32\",\"3/14/2019 13:49\",\"3/14/2019 14:13\",\"3/14/2019 14:19\",\"3/14/2019 14:41\",\"3/14/2019 15:36\",\"3/14/2019 16:45\",\"3/14/2019 17:20\",\"3/14/2019 17:22\",\"3/14/2019 17:54\",\"3/14/2019 18:10\",\"3/14/2019 19:02\",\"3/14/2019 19:33\",\"3/14/2019 20:35\",\"3/15/2019 10:12\",\"3/15/2019 10:26\",\"3/15/2019 10:50\",\"3/15/2019 11:57\",\"3/15/2019 12:20\",\"3/15/2019 13:05\",\"3/15/2019 14:04\",\"3/15/2019 14:38\",\"3/15/2019 14:48\",\"3/15/2019 15:36\",\"3/15/2019 16:26\",\"3/15/2019 18:20\",\"3/16/2019 10:11\",\"3/16/2019 11:22\",\"3/16/2019 12:43\",\"3/16/2019 15:33\",\"3/16/2019 16:58\",\"3/16/2019 18:51\",\"3/16/2019 19:08\",\"3/16/2019 19:25\",\"3/16/2019 19:47\",\"3/17/2019 11:55\",\"3/17/2019 13:54\",\"3/17/2019 16:36\",\"3/17/2019 18:58\",\"3/17/2019 19:06\",\"3/17/2019 19:53\",\"3/18/2019 11:29\",\"3/18/2019 13:45\",\"3/18/2019 15:29\",\"3/18/2019 15:52\",\"3/18/2019 16:10\",\"3/18/2019 17:15\",\"3/18/2019 17:38\",\"3/19/2019 11:30\",\"3/19/2019 11:52\",\"3/19/2019 12:16\",\"3/19/2019 12:46\",\"3/19/2019 13:25\",\"3/19/2019 13:37\",\"3/19/2019 13:40\",\"3/19/2019 14:35\",\"3/19/2019 15:23\",\"3/19/2019 15:29\",\"3/19/2019 15:49\",\"3/19/2019 15:52\",\"3/19/2019 17:08\",\"3/19/2019 18:19\",\"3/19/2019 19:09\",\"3/19/2019 19:42\",\"3/2/2019 11:22\",\"3/2/2019 12:36\",\"3/2/2019 12:40\",\"3/2/2019 13:01\",\"3/2/2019 13:10\",\"3/2/2019 13:50\",\"3/2/2019 14:16\",\"3/2/2019 16:16\",\"3/2/2019 16:35\",\"3/2/2019 16:42\",\"3/2/2019 17:16\",\"3/2/2019 17:36\",\"3/2/2019 18:14\",\"3/2/2019 18:18\",\"3/2/2019 19:26\",\"3/2/2019 19:26\",\"3/2/2019 19:42\",\"3/2/2019 19:44\",\"3/20/2019 11:23\",\"3/20/2019 11:32\",\"3/20/2019 12:24\",\"3/20/2019 13:02\",\"3/20/2019 13:53\",\"3/20/2019 14:14\",\"3/20/2019 15:08\",\"3/20/2019 15:56\",\"3/20/2019 16:28\",\"3/20/2019 17:52\",\"3/20/2019 19:17\",\"3/20/2019 19:28\",\"3/20/2019 19:44\",\"3/20/2019 19:55\",\"3/20/2019 19:57\",\"3/21/2019 10:17\",\"3/21/2019 10:40\",\"3/21/2019 15:25\",\"3/21/2019 16:08\",\"3/21/2019 16:21\",\"3/21/2019 17:04\",\"3/22/2019 14:00\",\"3/22/2019 14:33\",\"3/22/2019 14:42\",\"3/22/2019 15:05\",\"3/22/2019 18:33\",\"3/22/2019 19:06\",\"3/22/2019 19:20\",\"3/22/2019 19:35\",\"3/22/2019 19:36\",\"3/22/2019 20:19\",\"3/23/2019 10:13\",\"3/23/2019 10:16\",\"3/23/2019 10:55\",\"3/23/2019 12:41\",\"3/23/2019 13:14\",\"3/23/2019 13:23\",\"3/23/2019 13:24\",\"3/23/2019 15:59\",\"3/23/2019 18:59\",\"3/23/2019 19:16\",\"3/23/2019 19:20\",\"3/24/2019 10:29\",\"3/24/2019 10:43\",\"3/24/2019 13:33\",\"3/24/2019 13:48\",\"3/24/2019 14:08\",\"3/24/2019 14:22\",\"3/24/2019 14:49\",\"3/24/2019 17:56\",\"3/24/2019 18:14\",\"3/24/2019 18:27\",\"3/24/2019 18:27\",\"3/25/2019 10:23\",\"3/25/2019 13:07\",\"3/25/2019 15:19\",\"3/25/2019 16:32\",\"3/25/2019 17:53\",\"3/25/2019 18:02\",\"3/25/2019 18:30\",\"3/25/2019 18:51\",\"3/25/2019 20:18\",\"3/26/2019 10:31\",\"3/26/2019 10:34\",\"3/26/2019 11:02\",\"3/26/2019 11:07\",\"3/26/2019 13:54\",\"3/26/2019 14:13\",\"3/26/2019 18:03\",\"3/26/2019 18:37\",\"3/26/2019 19:20\",\"3/26/2019 19:28\",\"3/26/2019 19:44\",\"3/26/2019 20:14\",\"3/26/2019 20:21\",\"3/27/2019 10:43\",\"3/27/2019 11:26\",\"3/27/2019 13:48\",\"3/27/2019 14:03\",\"3/27/2019 15:08\",\"3/27/2019 16:30\",\"3/27/2019 19:11\",\"3/27/2019 19:18\",\"3/27/2019 20:29\",\"3/27/2019 20:35\",\"3/28/2019 12:58\",\"3/28/2019 13:41\",\"3/28/2019 13:57\",\"3/28/2019 15:30\",\"3/28/2019 15:31\",\"3/28/2019 16:06\",\"3/28/2019 16:44\",\"3/28/2019 17:38\",\"3/28/2019 19:16\",\"3/28/2019 20:14\",\"3/29/2019 10:25\",\"3/29/2019 14:06\",\"3/29/2019 14:28\",\"3/29/2019 14:44\",\"3/29/2019 16:48\",\"3/29/2019 16:54\",\"3/29/2019 19:12\",\"3/29/2019 19:21\",\"3/3/2019 10:54\",\"3/3/2019 12:25\",\"3/3/2019 13:01\",\"3/3/2019 13:23\",\"3/3/2019 13:42\",\"3/3/2019 14:30\",\"3/3/2019 15:09\",\"3/3/2019 17:01\",\"3/3/2019 17:36\",\"3/3/2019 19:00\",\"3/3/2019 19:17\",\"3/3/2019 19:30\",\"3/3/2019 20:06\",\"3/3/2019 20:31\",\"3/30/2019 10:18\",\"3/30/2019 12:45\",\"3/30/2019 12:51\",\"3/30/2019 13:22\",\"3/30/2019 14:43\",\"3/30/2019 14:58\",\"3/30/2019 16:34\",\"3/30/2019 17:04\",\"3/30/2019 17:58\",\"3/30/2019 19:26\",\"3/30/2019 20:37\",\"3/4/2019 10:05\",\"3/4/2019 10:39\",\"3/4/2019 11:19\",\"3/4/2019 11:27\",\"3/4/2019 12:23\",\"3/4/2019 12:44\",\"3/4/2019 15:02\",\"3/4/2019 15:27\",\"3/4/2019 15:44\",\"3/4/2019 16:28\",\"3/4/2019 19:48\",\"3/4/2019 20:39\",\"3/5/2019 10:40\",\"3/5/2019 12:29\",\"3/5/2019 13:30\",\"3/5/2019 13:44\",\"3/5/2019 14:31\",\"3/5/2019 16:24\",\"3/5/2019 16:38\",\"3/5/2019 17:07\",\"3/5/2019 17:43\",\"3/5/2019 17:49\",\"3/5/2019 18:02\",\"3/5/2019 18:14\",\"3/5/2019 18:17\",\"3/5/2019 19:06\",\"3/5/2019 19:40\",\"3/5/2019 19:46\",\"3/5/2019 20:24\",\"3/6/2019 10:36\",\"3/6/2019 11:55\",\"3/6/2019 12:27\",\"3/6/2019 12:46\",\"3/6/2019 13:29\",\"3/6/2019 13:46\",\"3/6/2019 15:07\",\"3/6/2019 15:31\",\"3/6/2019 18:13\",\"3/6/2019 20:34\",\"3/6/2019 20:57\",\"3/7/2019 10:23\",\"3/7/2019 11:44\",\"3/7/2019 11:49\",\"3/7/2019 13:12\",\"3/7/2019 13:58\",\"3/7/2019 14:53\",\"3/7/2019 16:54\",\"3/7/2019 18:35\",\"3/7/2019 20:37\",\"3/8/2019 10:29\",\"3/8/2019 10:53\",\"3/8/2019 13:21\",\"3/8/2019 15:27\",\"3/8/2019 15:37\",\"3/8/2019 16:43\",\"3/8/2019 16:53\",\"3/8/2019 17:11\",\"3/8/2019 20:01\",\"3/8/2019 20:15\",\"3/8/2019 20:38\",\"3/9/2019 10:17\",\"3/9/2019 10:54\",\"3/9/2019 11:23\",\"3/9/2019 12:37\",\"3/9/2019 12:45\",\"3/9/2019 13:18\",\"3/9/2019 13:53\",\"3/9/2019 14:36\",\"3/9/2019 14:57\",\"3/9/2019 15:36\",\"3/9/2019 17:03\",\"3/9/2019 17:26\",\"3/9/2019 18:00\",\"3/9/2019 18:21\",\"3/9/2019 18:24\",\"3/9/2019 19:09\"],\"xaxis\":\"x\",\"y\":[21.783,42.315,8.766,6.287,29.583,37.11,19.036,6.322,22.413,8.448,18.49,5.408,29.099,27.951,2.756,18.6975,23.514,33.512,7.693,3.626,22.7205,16.466,4.4845,28.956,14.55,8.716,11.223,3.4475,12.8695,41.625,17.8745,19.992,44.335,9.0045,48.75,14.71,6.903,5.722,36.624,1.3535,15.953,12.1515,4.208,5.986,20.825,17.829,7.038,3.7145,21.78,7.239,21.4935,1.7405,0.8875,9.0705,24.9225,24.175,20.178,6.354,4.2415,18.6165,3.616,25.571,28.02,6.685,8.377,7.352,48.685,27.935,33.235,40.1445,28.116,27.396,3.429,18.915,4.36,28.4305,5.999,47.79,23.67,1.549,2.568,31.78,31.759,41.967,9.318,7.842,4.062,5.789,6.282,6.456,40.605,17.98,20.6185,33.1065,6.565,3.855,4.336,13.2225,7.916,5.244,1.971,40.7835,21.259,26.718,8.712,6.5775,4.84,4.4305,11.226,11.918,1.791,29.73,32.095,13.452,9.459,4.0465,15.384,15.867,22.84,17.272,26.1315,13.552,17.105,18.2745,12.498,12.668,2.1235,9.982,6.603,13.389,35.7,22.428,5.622,11.1,36.175,16.586,25.552,9.314,6.248,5.344,3.636,29.757,23.385,4.9065,21.966,8.2005,18.6095,3.449,33.6015,4.0755,4.602,16.743,7.215,5.095,9.8475,2.7475,9.476,19.818,34.986,15.904,29.559,15.388,25.131,1.5305,21.4335,44.9,12.6075,4.485,23.9875,4.154,11.63,7.7,39.385,26.558,19.448,13.983,3.0435,18.32,20.15,4.224,34.672,38.3,6.924,19.375,12.858,10.226,3.705,8.01,13.867,16.9785,31.5855,45.25,7.995,2.187,13.724,0.7715,12.002,4.8055,12.7305,6.096,22.09,11.8035,3.2495,1.066,20.0125,3.333,18.975,5.0715,30.478,7.888,12.885,0.6045,18.0915,9.2125,31.2165,8.137,22.43,14.502,5.11,24.505,27.072,8.0625,23.285,7.18,24.513,24.3315,1.203,8.484,18.998,3.663,6.94,19.232,23.288,10.715,35.1315,32.388,32.4495,4.3525,30.148,5.631,13.02,4.0355,39.664,0.9575,5.955,13.962,9.672,5.745,25.215,1.93,13.335,37.458,12.624,2.0175,6.524,29.38,6.9825,4.402,21.8425,3.794,17.5025,10.3635,4.669,16.7725,24.8,2.112,18.945,14.067,4.73,16.968,2.6325,24.2575,1.119,7.64,49.26,1.148,20.536,31.09,39.48,3.3175,10.6875,3.791,13.605,4.154,23.979,36.065,7.412,6.908,39.5415,8.6,5.2425,6.963,17.77,29.9925,13.742,3.6085,12.53,3.698,32.858,1.595,26.1415,14.148,10.7275,27.6115,15.921,11.409,3.56,8.214,0.767,36.2115,23.56,14.8995,16.336,44.74,12.918,10.235,12.438,9.693,27.4275,17.828,3.406,4.083,29.283,15.544,10.91,16.7895,8.3355,6.483,7.275,4.91,9.285,9.076,0.639,16.605,11.9385,27.416,14.2785,10.046,1.276,32.615,3.6465,32.796,18.1615,37.3,33.7295,7.9,9.635,47.72,14.796,22.068,4.74,3.285,3.5575,10.3815,24.332,26.244,15.536,36.3555,15.07,5.679,3.7035,18.7775,12.9185,25.683,11.1475,3.347,7.2135,6.968,39.065,38.6,11.556,37.8405,12.012,44.6,18.952,31.06,21.6725,11.7375,37.948,7.163,43.55,30.19,2.6175,7.629,1.974,7.8785,4.036,6.45,4.107,9.298,7.39,1.487,3.841,13.83,21.028,5.832,15.148,4.565,6.6975,39.824,9.937,10.065,4.942,16.4,12.072,4.4425,25.494,7.83,17.277,34.83,49.65,7.791,27.984,13.456,4.4155,3.711,4.578,13.71,26.915,39.7125,8.687,16.4295,25.955,14.313,4.5675,3.0125,34.2265,12.036,32.384,8.64,6.807,26.235,14.296,13.8135,23.7965,35.516,4.935,2.9525,20.997,44.1405,17.8475,3.0475,30.919,1.476,10.326,8.814,13.533,3.124,9.848,28.756,12.6975,44.397,34.9335,8.248,8.72,22.428,31.311,5.611,10.647,19.084,8.335,20.9475,20.608,1.921,21.565,37.548,0.9165,9.191,26.388,8.946,5.48,8.661,4.3135,8.226,15.995,19.95,3.769,23.0725,16.16,16.67,12.06,20.915,9.88,0.627,5.9865,14.196,14.764,1.5205,9.9375,24.4395,10.3455,1.273,8.71,12.245,3.291,33.4215,2.372,8.745,34.0155,5.984,1.7945,14.694,16.072,20.4365,14.8185,3.594,4.768,16.719,36.78,17.385,2.54,10.572,12.37,20.13,8.377,21.51,26.395,12.57,17.028,20.652,2.4305,22.8525,3.1845,4.4225,14.61,20.51,12.514,14.94,23.5325,1.9875,9.777,27.21,9.989,19.108,4.661,7.98,29.913,2.7725,2.7225,10.3185,4.9845,6.75,37.22,2.148,32.41,37.788,35.0685,25.5105,16.8175,7.863,23.097,9.425,9.885,30.0545,20.545,3.015,9.32,34.392,8.4,24.186,14.79,31.99,6.82,33.725,6.4455,24.7815,11.79,33.208,10.13,3.6985,19.255,24.665,36.39,2.689,8.827,3.5975,6.2325,34.956,0.699,9.726,26.103,10.765,4.668,7.204,3.3885,7.773,14.181,14.7315,1.649,11.28,26.208,1.531,19.269,2.089,6.933,4.395,34.3,2.621,19.884,11.232,11.4,12.95,15.135,9.0045,19.396,2.896,8.92,8.9525,11.475,4.4875,37.248,1.448,35.84,27.18,5.8345,24.164,13.188,2.279,0.5085,29.475,16.344,23.164,13.806,21.595,13.038,8.613,4.944,9.909,15.9275,39.695,30.2085,9.294,4.911,40.626,0.985,16.2425,48.605,20.736,13.0025,6.35,1.676,49.49,22.491,1.079,3.162,11.12,19.773,9.194,3.735,1.592,4.785,42.305,15.768,12.21,8.5905,22.74,2.223,6.951,35.3475,14.978,4.125,4.464,3.473,28.4585,2.686,8.767,40.975,6.377,16.1055,6.861,1.2725,32.7915,3.876,8.601,15.655,3.5455,5.803,24.1255,5.977,18.934,25.368,7.08,14.031,4.03,10.3635,12.096,10.3845,8.6225,14.2555,28.962,34.44,1.5885,9.534,18.852,1.9505,19.264,19.548,8.3,9.244,9.183,9.055,4.876,7.288,13.5675,2.825,7.935,7.66,16.0265,3.47,25.564,29.805,4.464,2.348,34.8425,9.711,10.566,2.3535,43.866,41.29,2.1425,21.284,9.7475,7.094,21.033,21.9775,19.1555,23.094,38.78,9.658,6.1155,4.639,11.498,3.32,14.52,26.104,4.3,36.212,11.2005,2.718,9.83,17.185,4.75,15.9025,19.452,3.7485,19.128,39.51,29.0,1.537,5.076,16.353,15.494,1.131,17.595,38.46,14.955,6.618,4.599,2.5735,8.315,10.238,14.265,8.1775,4.658,2.31,13.228,33.777,8.334,7.762,2.661,0.775,35.42,34.38,15.106,41.315,10.6225,44.658,10.168,27.275,3.939,39.7755,4.053,11.0115,29.96,12.15,3.947,23.1225,25.893,48.69,13.2945,13.304,3.827,3.305,2.531,44.8785,1.439,24.951,42.282,17.424,9.925,3.1305,30.368,22.353,4.325,35.495,6.3125,23.09,11.9865,4.5805,1.6815,22.01,7.1125,3.972,9.898,36.008,15.228,17.187,4.7575,21.4775,3.574,0.914,11.106,14.14,21.036,35.372,20.372,18.639,1.2645,7.9125,7.75,19.4635,36.735,23.5865,21.968,28.42,7.43,22.164,18.308,13.188,15.291,29.976,3.675,20.72,7.032,3.743,15.676,17.625,6.1925,32.475,19.13,7.272,11.078,10.578,9.331,2.37,29.8865,6.762,11.829,7.3395,6.8565,1.956,2.6725,12.854,8.425,4.37,6.192,2.4355,5.5305,2.619,25.27,6.9325,44.919,4.434,12.984,7.851,5.567,7.954,4.848,28.017,4.3725,17.283,7.1475,4.5555,5.79,10.752,12.835,25.011,17.478,9.107,9.958,3.528,43.935,25.1195,15.3225,5.768,13.715,10.863,41.17,35.69,13.959,36.525,12.048,16.2155,12.98,40.985,1.25,8.868,17.604,37.796,8.34,12.08,2.3205,10.1325,22.37,10.326,4.072,14.0805,43.749,21.063,9.34,16.11,29.028,29.008,14.523,10.3065,14.932,4.319,22.032,3.655,24.315,29.949,14.985,1.512,8.658,11.306,39.48,13.197,5.485,12.318,6.06,29.071,39.155,11.7465,11.055,8.191,34.87,22.8585,24.81,7.278,19.5895,38.184,2.712,10.128,3.987,4.992,7.905,9.675,1.85,21.728,28.744,16.794,16.8575,27.639,7.095,6.663,4.897,1.616,6.9975,12.57,3.29,16.814,5.662,9.979,3.82,45.325,15.4425,4.4075,10.197,24.39,4.327,13.878,18.775,3.408,4.858,12.2275,18.263,44.5365,6.087,26.13,38.916,10.342,33.439,22.588,0.814,5.102,44.982,18.792,22.773,25.97,24.945],\"yaxis\":\"y\",\"type\":\"scatter\"}],                        {\"template\":{\"data\":{\"bar\":[{\"error_x\":{\"color\":\"#2a3f5f\"},\"error_y\":{\"color\":\"#2a3f5f\"},\"marker\":{\"line\":{\"color\":\"#E5ECF6\",\"width\":0.5},\"pattern\":{\"fillmode\":\"overlay\",\"size\":10,\"solidity\":0.2}},\"type\":\"bar\"}],\"barpolar\":[{\"marker\":{\"line\":{\"color\":\"#E5ECF6\",\"width\":0.5},\"pattern\":{\"fillmode\":\"overlay\",\"size\":10,\"solidity\":0.2}},\"type\":\"barpolar\"}],\"carpet\":[{\"aaxis\":{\"endlinecolor\":\"#2a3f5f\",\"gridcolor\":\"white\",\"linecolor\":\"white\",\"minorgridcolor\":\"white\",\"startlinecolor\":\"#2a3f5f\"},\"baxis\":{\"endlinecolor\":\"#2a3f5f\",\"gridcolor\":\"white\",\"linecolor\":\"white\",\"minorgridcolor\":\"white\",\"startlinecolor\":\"#2a3f5f\"},\"type\":\"carpet\"}],\"choropleth\":[{\"colorbar\":{\"outlinewidth\":0,\"ticks\":\"\"},\"type\":\"choropleth\"}],\"contour\":[{\"colorbar\":{\"outlinewidth\":0,\"ticks\":\"\"},\"colorscale\":[[0.0,\"#0d0887\"],[0.1111111111111111,\"#46039f\"],[0.2222222222222222,\"#7201a8\"],[0.3333333333333333,\"#9c179e\"],[0.4444444444444444,\"#bd3786\"],[0.5555555555555556,\"#d8576b\"],[0.6666666666666666,\"#ed7953\"],[0.7777777777777778,\"#fb9f3a\"],[0.8888888888888888,\"#fdca26\"],[1.0,\"#f0f921\"]],\"type\":\"contour\"}],\"contourcarpet\":[{\"colorbar\":{\"outlinewidth\":0,\"ticks\":\"\"},\"type\":\"contourcarpet\"}],\"heatmap\":[{\"colorbar\":{\"outlinewidth\":0,\"ticks\":\"\"},\"colorscale\":[[0.0,\"#0d0887\"],[0.1111111111111111,\"#46039f\"],[0.2222222222222222,\"#7201a8\"],[0.3333333333333333,\"#9c179e\"],[0.4444444444444444,\"#bd3786\"],[0.5555555555555556,\"#d8576b\"],[0.6666666666666666,\"#ed7953\"],[0.7777777777777778,\"#fb9f3a\"],[0.8888888888888888,\"#fdca26\"],[1.0,\"#f0f921\"]],\"type\":\"heatmap\"}],\"heatmapgl\":[{\"colorbar\":{\"outlinewidth\":0,\"ticks\":\"\"},\"colorscale\":[[0.0,\"#0d0887\"],[0.1111111111111111,\"#46039f\"],[0.2222222222222222,\"#7201a8\"],[0.3333333333333333,\"#9c179e\"],[0.4444444444444444,\"#bd3786\"],[0.5555555555555556,\"#d8576b\"],[0.6666666666666666,\"#ed7953\"],[0.7777777777777778,\"#fb9f3a\"],[0.8888888888888888,\"#fdca26\"],[1.0,\"#f0f921\"]],\"type\":\"heatmapgl\"}],\"histogram\":[{\"marker\":{\"pattern\":{\"fillmode\":\"overlay\",\"size\":10,\"solidity\":0.2}},\"type\":\"histogram\"}],\"histogram2d\":[{\"colorbar\":{\"outlinewidth\":0,\"ticks\":\"\"},\"colorscale\":[[0.0,\"#0d0887\"],[0.1111111111111111,\"#46039f\"],[0.2222222222222222,\"#7201a8\"],[0.3333333333333333,\"#9c179e\"],[0.4444444444444444,\"#bd3786\"],[0.5555555555555556,\"#d8576b\"],[0.6666666666666666,\"#ed7953\"],[0.7777777777777778,\"#fb9f3a\"],[0.8888888888888888,\"#fdca26\"],[1.0,\"#f0f921\"]],\"type\":\"histogram2d\"}],\"histogram2dcontour\":[{\"colorbar\":{\"outlinewidth\":0,\"ticks\":\"\"},\"colorscale\":[[0.0,\"#0d0887\"],[0.1111111111111111,\"#46039f\"],[0.2222222222222222,\"#7201a8\"],[0.3333333333333333,\"#9c179e\"],[0.4444444444444444,\"#bd3786\"],[0.5555555555555556,\"#d8576b\"],[0.6666666666666666,\"#ed7953\"],[0.7777777777777778,\"#fb9f3a\"],[0.8888888888888888,\"#fdca26\"],[1.0,\"#f0f921\"]],\"type\":\"histogram2dcontour\"}],\"mesh3d\":[{\"colorbar\":{\"outlinewidth\":0,\"ticks\":\"\"},\"type\":\"mesh3d\"}],\"parcoords\":[{\"line\":{\"colorbar\":{\"outlinewidth\":0,\"ticks\":\"\"}},\"type\":\"parcoords\"}],\"pie\":[{\"automargin\":true,\"type\":\"pie\"}],\"scatter\":[{\"marker\":{\"colorbar\":{\"outlinewidth\":0,\"ticks\":\"\"}},\"type\":\"scatter\"}],\"scatter3d\":[{\"line\":{\"colorbar\":{\"outlinewidth\":0,\"ticks\":\"\"}},\"marker\":{\"colorbar\":{\"outlinewidth\":0,\"ticks\":\"\"}},\"type\":\"scatter3d\"}],\"scattercarpet\":[{\"marker\":{\"colorbar\":{\"outlinewidth\":0,\"ticks\":\"\"}},\"type\":\"scattercarpet\"}],\"scattergeo\":[{\"marker\":{\"colorbar\":{\"outlinewidth\":0,\"ticks\":\"\"}},\"type\":\"scattergeo\"}],\"scattergl\":[{\"marker\":{\"colorbar\":{\"outlinewidth\":0,\"ticks\":\"\"}},\"type\":\"scattergl\"}],\"scattermapbox\":[{\"marker\":{\"colorbar\":{\"outlinewidth\":0,\"ticks\":\"\"}},\"type\":\"scattermapbox\"}],\"scatterpolar\":[{\"marker\":{\"colorbar\":{\"outlinewidth\":0,\"ticks\":\"\"}},\"type\":\"scatterpolar\"}],\"scatterpolargl\":[{\"marker\":{\"colorbar\":{\"outlinewidth\":0,\"ticks\":\"\"}},\"type\":\"scatterpolargl\"}],\"scatterternary\":[{\"marker\":{\"colorbar\":{\"outlinewidth\":0,\"ticks\":\"\"}},\"type\":\"scatterternary\"}],\"surface\":[{\"colorbar\":{\"outlinewidth\":0,\"ticks\":\"\"},\"colorscale\":[[0.0,\"#0d0887\"],[0.1111111111111111,\"#46039f\"],[0.2222222222222222,\"#7201a8\"],[0.3333333333333333,\"#9c179e\"],[0.4444444444444444,\"#bd3786\"],[0.5555555555555556,\"#d8576b\"],[0.6666666666666666,\"#ed7953\"],[0.7777777777777778,\"#fb9f3a\"],[0.8888888888888888,\"#fdca26\"],[1.0,\"#f0f921\"]],\"type\":\"surface\"}],\"table\":[{\"cells\":{\"fill\":{\"color\":\"#EBF0F8\"},\"line\":{\"color\":\"white\"}},\"header\":{\"fill\":{\"color\":\"#C8D4E3\"},\"line\":{\"color\":\"white\"}},\"type\":\"table\"}]},\"layout\":{\"annotationdefaults\":{\"arrowcolor\":\"#2a3f5f\",\"arrowhead\":0,\"arrowwidth\":1},\"autotypenumbers\":\"strict\",\"coloraxis\":{\"colorbar\":{\"outlinewidth\":0,\"ticks\":\"\"}},\"colorscale\":{\"diverging\":[[0,\"#8e0152\"],[0.1,\"#c51b7d\"],[0.2,\"#de77ae\"],[0.3,\"#f1b6da\"],[0.4,\"#fde0ef\"],[0.5,\"#f7f7f7\"],[0.6,\"#e6f5d0\"],[0.7,\"#b8e186\"],[0.8,\"#7fbc41\"],[0.9,\"#4d9221\"],[1,\"#276419\"]],\"sequential\":[[0.0,\"#0d0887\"],[0.1111111111111111,\"#46039f\"],[0.2222222222222222,\"#7201a8\"],[0.3333333333333333,\"#9c179e\"],[0.4444444444444444,\"#bd3786\"],[0.5555555555555556,\"#d8576b\"],[0.6666666666666666,\"#ed7953\"],[0.7777777777777778,\"#fb9f3a\"],[0.8888888888888888,\"#fdca26\"],[1.0,\"#f0f921\"]],\"sequentialminus\":[[0.0,\"#0d0887\"],[0.1111111111111111,\"#46039f\"],[0.2222222222222222,\"#7201a8\"],[0.3333333333333333,\"#9c179e\"],[0.4444444444444444,\"#bd3786\"],[0.5555555555555556,\"#d8576b\"],[0.6666666666666666,\"#ed7953\"],[0.7777777777777778,\"#fb9f3a\"],[0.8888888888888888,\"#fdca26\"],[1.0,\"#f0f921\"]]},\"colorway\":[\"#636efa\",\"#EF553B\",\"#00cc96\",\"#ab63fa\",\"#FFA15A\",\"#19d3f3\",\"#FF6692\",\"#B6E880\",\"#FF97FF\",\"#FECB52\"],\"font\":{\"color\":\"#2a3f5f\"},\"geo\":{\"bgcolor\":\"white\",\"lakecolor\":\"white\",\"landcolor\":\"#E5ECF6\",\"showlakes\":true,\"showland\":true,\"subunitcolor\":\"white\"},\"hoverlabel\":{\"align\":\"left\"},\"hovermode\":\"closest\",\"mapbox\":{\"style\":\"light\"},\"paper_bgcolor\":\"white\",\"plot_bgcolor\":\"#E5ECF6\",\"polar\":{\"angularaxis\":{\"gridcolor\":\"white\",\"linecolor\":\"white\",\"ticks\":\"\"},\"bgcolor\":\"#E5ECF6\",\"radialaxis\":{\"gridcolor\":\"white\",\"linecolor\":\"white\",\"ticks\":\"\"}},\"scene\":{\"xaxis\":{\"backgroundcolor\":\"#E5ECF6\",\"gridcolor\":\"white\",\"gridwidth\":2,\"linecolor\":\"white\",\"showbackground\":true,\"ticks\":\"\",\"zerolinecolor\":\"white\"},\"yaxis\":{\"backgroundcolor\":\"#E5ECF6\",\"gridcolor\":\"white\",\"gridwidth\":2,\"linecolor\":\"white\",\"showbackground\":true,\"ticks\":\"\",\"zerolinecolor\":\"white\"},\"zaxis\":{\"backgroundcolor\":\"#E5ECF6\",\"gridcolor\":\"white\",\"gridwidth\":2,\"linecolor\":\"white\",\"showbackground\":true,\"ticks\":\"\",\"zerolinecolor\":\"white\"}},\"shapedefaults\":{\"line\":{\"color\":\"#2a3f5f\"}},\"ternary\":{\"aaxis\":{\"gridcolor\":\"white\",\"linecolor\":\"white\",\"ticks\":\"\"},\"baxis\":{\"gridcolor\":\"white\",\"linecolor\":\"white\",\"ticks\":\"\"},\"bgcolor\":\"#E5ECF6\",\"caxis\":{\"gridcolor\":\"white\",\"linecolor\":\"white\",\"ticks\":\"\"}},\"title\":{\"x\":0.05},\"xaxis\":{\"automargin\":true,\"gridcolor\":\"white\",\"linecolor\":\"white\",\"ticks\":\"\",\"title\":{\"standoff\":15},\"zerolinecolor\":\"white\",\"zerolinewidth\":2},\"yaxis\":{\"automargin\":true,\"gridcolor\":\"white\",\"linecolor\":\"white\",\"ticks\":\"\",\"title\":{\"standoff\":15},\"zerolinecolor\":\"white\",\"zerolinewidth\":2}}},\"xaxis\":{\"anchor\":\"y\",\"domain\":[0.0,1.0],\"title\":{\"text\":\"Date\"}},\"yaxis\":{\"anchor\":\"x\",\"domain\":[0.0,1.0],\"title\":{\"text\":\"gross income\"}},\"legend\":{\"tracegroupgap\":0},\"title\":{\"text\":\"Single Product Demand\"},\"height\":400,\"width\":800},                        {\"responsive\": true}                    ).then(function(){\n",
              "                            \n",
              "var gd = document.getElementById('593b1d0e-16e3-422c-8711-d79747b7fc2d');\n",
              "var x = new MutationObserver(function (mutations, observer) {{\n",
              "        var display = window.getComputedStyle(gd).display;\n",
              "        if (!display || display === 'none') {{\n",
              "            console.log([gd, 'removed!']);\n",
              "            Plotly.purge(gd);\n",
              "            observer.disconnect();\n",
              "        }}\n",
              "}});\n",
              "\n",
              "// Listen for the removal of the full notebook cells\n",
              "var notebookContainer = gd.closest('#notebook-container');\n",
              "if (notebookContainer) {{\n",
              "    x.observe(notebookContainer, {childList: true});\n",
              "}}\n",
              "\n",
              "// Listen for the clearing of the current output cell\n",
              "var outputEl = gd.closest('.output');\n",
              "if (outputEl) {{\n",
              "    x.observe(outputEl, {childList: true});\n",
              "}}\n",
              "\n",
              "                        })                };                            </script>        </div>\n",
              "</body>\n",
              "</html>"
            ]
          },
          "metadata": {}
        }
      ]
    },
    {
      "cell_type": "markdown",
      "source": [
        "- There is a significant amount of variability within the data.\n",
        "- The sales remain approximatly constant over time.\n",
        "- There seems to be an element of seasonality."
      ],
      "metadata": {
        "id": "8iLCHjKGhuLp"
      }
    },
    {
      "cell_type": "markdown",
      "source": [
        "Deconstruct the time series aspect. Use the to_datetime() function to convert string into the date type."
      ],
      "metadata": {
        "id": "L9fJXDRYiOIr"
      }
    },
    {
      "cell_type": "code",
      "source": [
        "df.columns"
      ],
      "metadata": {
        "colab": {
          "base_uri": "https://localhost:8080/"
        },
        "id": "bWbtqN25jipN",
        "outputId": "7d80090c-f142-4ac1-b69a-3344f4fd65fa"
      },
      "execution_count": 7,
      "outputs": [
        {
          "output_type": "execute_result",
          "data": {
            "text/plain": [
              "Index(['Invoice ID', 'Branch', 'City', 'Customer type', 'Gender',\n",
              "       'Product line', 'Unit price', 'Quantity', 'Tax 5%', 'Total', 'Date',\n",
              "       'Time', 'Payment', 'cogs', 'gross margin percentage', 'gross income',\n",
              "       'Rating'],\n",
              "      dtype='object')"
            ]
          },
          "metadata": {},
          "execution_count": 7
        }
      ]
    },
    {
      "cell_type": "code",
      "source": [
        "df_gross = df[['Date', 'Time', 'gross income']]"
      ],
      "metadata": {
        "id": "3zvzn7Jpj0EN"
      },
      "execution_count": 8,
      "outputs": []
    },
    {
      "cell_type": "markdown",
      "source": [],
      "metadata": {
        "id": "u08_QrgZjiC7"
      }
    },
    {
      "cell_type": "code",
      "source": [
        "def get_features(dataframe):\n",
        "    dataframe['gross income'] = dataframe['gross income']\n",
        "    dataframe['Date'] = pd.to_datetime(dataframe['Date'])\n",
        "    dataframe['year'] = dataframe.Date.dt.year\n",
        "    dataframe['month'] = dataframe.Date.dt.month\n",
        "    dataframe['day'] = dataframe.Date.dt.day\n",
        "    dataframe['dayofyear'] = dataframe.Date.dt.dayofyear\n",
        "    dataframe['dayofweek'] = dataframe.Date.dt.dayofweek\n",
        "    dataframe['weekofyear'] = dataframe.Date.dt.weekofyear\n",
        "    return dataframe"
      ],
      "metadata": {
        "id": "Vxf4GCG-cXre"
      },
      "execution_count": 9,
      "outputs": []
    },
    {
      "cell_type": "code",
      "source": [
        "df_gross = get_features(df_gross)\n",
        "df_gross.head()"
      ],
      "metadata": {
        "colab": {
          "base_uri": "https://localhost:8080/",
          "height": 1000
        },
        "id": "Kwg6mLc1kB3_",
        "outputId": "f58c6059-daee-4d95-eb74-ca729e8b5b02"
      },
      "execution_count": 10,
      "outputs": [
        {
          "output_type": "stream",
          "name": "stderr",
          "text": [
            "<ipython-input-9-7750b4c0ff36>:2: SettingWithCopyWarning:\n",
            "\n",
            "\n",
            "A value is trying to be set on a copy of a slice from a DataFrame.\n",
            "Try using .loc[row_indexer,col_indexer] = value instead\n",
            "\n",
            "See the caveats in the documentation: https://pandas.pydata.org/pandas-docs/stable/user_guide/indexing.html#returning-a-view-versus-a-copy\n",
            "\n",
            "<ipython-input-9-7750b4c0ff36>:3: SettingWithCopyWarning:\n",
            "\n",
            "\n",
            "A value is trying to be set on a copy of a slice from a DataFrame.\n",
            "Try using .loc[row_indexer,col_indexer] = value instead\n",
            "\n",
            "See the caveats in the documentation: https://pandas.pydata.org/pandas-docs/stable/user_guide/indexing.html#returning-a-view-versus-a-copy\n",
            "\n",
            "<ipython-input-9-7750b4c0ff36>:4: SettingWithCopyWarning:\n",
            "\n",
            "\n",
            "A value is trying to be set on a copy of a slice from a DataFrame.\n",
            "Try using .loc[row_indexer,col_indexer] = value instead\n",
            "\n",
            "See the caveats in the documentation: https://pandas.pydata.org/pandas-docs/stable/user_guide/indexing.html#returning-a-view-versus-a-copy\n",
            "\n",
            "<ipython-input-9-7750b4c0ff36>:5: SettingWithCopyWarning:\n",
            "\n",
            "\n",
            "A value is trying to be set on a copy of a slice from a DataFrame.\n",
            "Try using .loc[row_indexer,col_indexer] = value instead\n",
            "\n",
            "See the caveats in the documentation: https://pandas.pydata.org/pandas-docs/stable/user_guide/indexing.html#returning-a-view-versus-a-copy\n",
            "\n",
            "<ipython-input-9-7750b4c0ff36>:6: SettingWithCopyWarning:\n",
            "\n",
            "\n",
            "A value is trying to be set on a copy of a slice from a DataFrame.\n",
            "Try using .loc[row_indexer,col_indexer] = value instead\n",
            "\n",
            "See the caveats in the documentation: https://pandas.pydata.org/pandas-docs/stable/user_guide/indexing.html#returning-a-view-versus-a-copy\n",
            "\n",
            "<ipython-input-9-7750b4c0ff36>:7: SettingWithCopyWarning:\n",
            "\n",
            "\n",
            "A value is trying to be set on a copy of a slice from a DataFrame.\n",
            "Try using .loc[row_indexer,col_indexer] = value instead\n",
            "\n",
            "See the caveats in the documentation: https://pandas.pydata.org/pandas-docs/stable/user_guide/indexing.html#returning-a-view-versus-a-copy\n",
            "\n",
            "<ipython-input-9-7750b4c0ff36>:8: SettingWithCopyWarning:\n",
            "\n",
            "\n",
            "A value is trying to be set on a copy of a slice from a DataFrame.\n",
            "Try using .loc[row_indexer,col_indexer] = value instead\n",
            "\n",
            "See the caveats in the documentation: https://pandas.pydata.org/pandas-docs/stable/user_guide/indexing.html#returning-a-view-versus-a-copy\n",
            "\n",
            "<ipython-input-9-7750b4c0ff36>:9: FutureWarning:\n",
            "\n",
            "Series.dt.weekofyear and Series.dt.week have been deprecated.  Please use Series.dt.isocalendar().week instead.\n",
            "\n",
            "<ipython-input-9-7750b4c0ff36>:9: SettingWithCopyWarning:\n",
            "\n",
            "\n",
            "A value is trying to be set on a copy of a slice from a DataFrame.\n",
            "Try using .loc[row_indexer,col_indexer] = value instead\n",
            "\n",
            "See the caveats in the documentation: https://pandas.pydata.org/pandas-docs/stable/user_guide/indexing.html#returning-a-view-versus-a-copy\n",
            "\n"
          ]
        },
        {
          "output_type": "execute_result",
          "data": {
            "text/plain": [
              "                   Date   Time  gross income  year  month  day  dayofyear  \\\n",
              "17  2019-01-01 10:39:00  10:39        21.783  2019      1    1          1   \n",
              "970 2019-01-01 11:36:00  11:36        42.315  2019      1    1          1   \n",
              "839 2019-01-01 11:40:00  11:40         8.766  2019      1    1          1   \n",
              "523 2019-01-01 11:43:00  11:43         6.287  2019      1    1          1   \n",
              "567 2019-01-01 13:55:00  13:55        29.583  2019      1    1          1   \n",
              "\n",
              "     dayofweek  weekofyear  \n",
              "17           1           1  \n",
              "970          1           1  \n",
              "839          1           1  \n",
              "523          1           1  \n",
              "567          1           1  "
            ],
            "text/html": [
              "\n",
              "  <div id=\"df-eeede4ea-7fb1-42b2-9724-564fc3100208\">\n",
              "    <div class=\"colab-df-container\">\n",
              "      <div>\n",
              "<style scoped>\n",
              "    .dataframe tbody tr th:only-of-type {\n",
              "        vertical-align: middle;\n",
              "    }\n",
              "\n",
              "    .dataframe tbody tr th {\n",
              "        vertical-align: top;\n",
              "    }\n",
              "\n",
              "    .dataframe thead th {\n",
              "        text-align: right;\n",
              "    }\n",
              "</style>\n",
              "<table border=\"1\" class=\"dataframe\">\n",
              "  <thead>\n",
              "    <tr style=\"text-align: right;\">\n",
              "      <th></th>\n",
              "      <th>Date</th>\n",
              "      <th>Time</th>\n",
              "      <th>gross income</th>\n",
              "      <th>year</th>\n",
              "      <th>month</th>\n",
              "      <th>day</th>\n",
              "      <th>dayofyear</th>\n",
              "      <th>dayofweek</th>\n",
              "      <th>weekofyear</th>\n",
              "    </tr>\n",
              "  </thead>\n",
              "  <tbody>\n",
              "    <tr>\n",
              "      <th>17</th>\n",
              "      <td>2019-01-01 10:39:00</td>\n",
              "      <td>10:39</td>\n",
              "      <td>21.783</td>\n",
              "      <td>2019</td>\n",
              "      <td>1</td>\n",
              "      <td>1</td>\n",
              "      <td>1</td>\n",
              "      <td>1</td>\n",
              "      <td>1</td>\n",
              "    </tr>\n",
              "    <tr>\n",
              "      <th>970</th>\n",
              "      <td>2019-01-01 11:36:00</td>\n",
              "      <td>11:36</td>\n",
              "      <td>42.315</td>\n",
              "      <td>2019</td>\n",
              "      <td>1</td>\n",
              "      <td>1</td>\n",
              "      <td>1</td>\n",
              "      <td>1</td>\n",
              "      <td>1</td>\n",
              "    </tr>\n",
              "    <tr>\n",
              "      <th>839</th>\n",
              "      <td>2019-01-01 11:40:00</td>\n",
              "      <td>11:40</td>\n",
              "      <td>8.766</td>\n",
              "      <td>2019</td>\n",
              "      <td>1</td>\n",
              "      <td>1</td>\n",
              "      <td>1</td>\n",
              "      <td>1</td>\n",
              "      <td>1</td>\n",
              "    </tr>\n",
              "    <tr>\n",
              "      <th>523</th>\n",
              "      <td>2019-01-01 11:43:00</td>\n",
              "      <td>11:43</td>\n",
              "      <td>6.287</td>\n",
              "      <td>2019</td>\n",
              "      <td>1</td>\n",
              "      <td>1</td>\n",
              "      <td>1</td>\n",
              "      <td>1</td>\n",
              "      <td>1</td>\n",
              "    </tr>\n",
              "    <tr>\n",
              "      <th>567</th>\n",
              "      <td>2019-01-01 13:55:00</td>\n",
              "      <td>13:55</td>\n",
              "      <td>29.583</td>\n",
              "      <td>2019</td>\n",
              "      <td>1</td>\n",
              "      <td>1</td>\n",
              "      <td>1</td>\n",
              "      <td>1</td>\n",
              "      <td>1</td>\n",
              "    </tr>\n",
              "  </tbody>\n",
              "</table>\n",
              "</div>\n",
              "      <button class=\"colab-df-convert\" onclick=\"convertToInteractive('df-eeede4ea-7fb1-42b2-9724-564fc3100208')\"\n",
              "              title=\"Convert this dataframe to an interactive table.\"\n",
              "              style=\"display:none;\">\n",
              "        \n",
              "  <svg xmlns=\"http://www.w3.org/2000/svg\" height=\"24px\"viewBox=\"0 0 24 24\"\n",
              "       width=\"24px\">\n",
              "    <path d=\"M0 0h24v24H0V0z\" fill=\"none\"/>\n",
              "    <path d=\"M18.56 5.44l.94 2.06.94-2.06 2.06-.94-2.06-.94-.94-2.06-.94 2.06-2.06.94zm-11 1L8.5 8.5l.94-2.06 2.06-.94-2.06-.94L8.5 2.5l-.94 2.06-2.06.94zm10 10l.94 2.06.94-2.06 2.06-.94-2.06-.94-.94-2.06-.94 2.06-2.06.94z\"/><path d=\"M17.41 7.96l-1.37-1.37c-.4-.4-.92-.59-1.43-.59-.52 0-1.04.2-1.43.59L10.3 9.45l-7.72 7.72c-.78.78-.78 2.05 0 2.83L4 21.41c.39.39.9.59 1.41.59.51 0 1.02-.2 1.41-.59l7.78-7.78 2.81-2.81c.8-.78.8-2.07 0-2.86zM5.41 20L4 18.59l7.72-7.72 1.47 1.35L5.41 20z\"/>\n",
              "  </svg>\n",
              "      </button>\n",
              "      \n",
              "  <style>\n",
              "    .colab-df-container {\n",
              "      display:flex;\n",
              "      flex-wrap:wrap;\n",
              "      gap: 12px;\n",
              "    }\n",
              "\n",
              "    .colab-df-convert {\n",
              "      background-color: #E8F0FE;\n",
              "      border: none;\n",
              "      border-radius: 50%;\n",
              "      cursor: pointer;\n",
              "      display: none;\n",
              "      fill: #1967D2;\n",
              "      height: 32px;\n",
              "      padding: 0 0 0 0;\n",
              "      width: 32px;\n",
              "    }\n",
              "\n",
              "    .colab-df-convert:hover {\n",
              "      background-color: #E2EBFA;\n",
              "      box-shadow: 0px 1px 2px rgba(60, 64, 67, 0.3), 0px 1px 3px 1px rgba(60, 64, 67, 0.15);\n",
              "      fill: #174EA6;\n",
              "    }\n",
              "\n",
              "    [theme=dark] .colab-df-convert {\n",
              "      background-color: #3B4455;\n",
              "      fill: #D2E3FC;\n",
              "    }\n",
              "\n",
              "    [theme=dark] .colab-df-convert:hover {\n",
              "      background-color: #434B5C;\n",
              "      box-shadow: 0px 1px 3px 1px rgba(0, 0, 0, 0.15);\n",
              "      filter: drop-shadow(0px 1px 2px rgba(0, 0, 0, 0.3));\n",
              "      fill: #FFFFFF;\n",
              "    }\n",
              "  </style>\n",
              "\n",
              "      <script>\n",
              "        const buttonEl =\n",
              "          document.querySelector('#df-eeede4ea-7fb1-42b2-9724-564fc3100208 button.colab-df-convert');\n",
              "        buttonEl.style.display =\n",
              "          google.colab.kernel.accessAllowed ? 'block' : 'none';\n",
              "\n",
              "        async function convertToInteractive(key) {\n",
              "          const element = document.querySelector('#df-eeede4ea-7fb1-42b2-9724-564fc3100208');\n",
              "          const dataTable =\n",
              "            await google.colab.kernel.invokeFunction('convertToInteractive',\n",
              "                                                     [key], {});\n",
              "          if (!dataTable) return;\n",
              "\n",
              "          const docLinkHtml = 'Like what you see? Visit the ' +\n",
              "            '<a target=\"_blank\" href=https://colab.research.google.com/notebooks/data_table.ipynb>data table notebook</a>'\n",
              "            + ' to learn more about interactive tables.';\n",
              "          element.innerHTML = '';\n",
              "          dataTable['output_type'] = 'display_data';\n",
              "          await google.colab.output.renderOutput(dataTable, element);\n",
              "          const docLink = document.createElement('div');\n",
              "          docLink.innerHTML = docLinkHtml;\n",
              "          element.appendChild(docLink);\n",
              "        }\n",
              "      </script>\n",
              "    </div>\n",
              "  </div>\n",
              "  "
            ]
          },
          "metadata": {},
          "execution_count": 10
        }
      ]
    },
    {
      "cell_type": "markdown",
      "source": [
        "Plot the data by month."
      ],
      "metadata": {
        "id": "GaE8llvNkia5"
      }
    },
    {
      "cell_type": "code",
      "source": [
        "plt.figure(figsize=(10,5))\n",
        "ax = sns.boxplot(x='month', y='gross income', data=df_gross)\n",
        "ax.set_xlabel('Month', fontsize = 16)\n",
        "ax.set_ylabel('Gross Income', fontsize = 16)\n"
      ],
      "metadata": {
        "colab": {
          "base_uri": "https://localhost:8080/",
          "height": 357
        },
        "id": "vq0jYXKQkkR7",
        "outputId": "81176d93-3668-41d5-b2a6-5c1a25e82ec1"
      },
      "execution_count": 11,
      "outputs": [
        {
          "output_type": "execute_result",
          "data": {
            "text/plain": [
              "Text(0, 0.5, 'Gross Income')"
            ]
          },
          "metadata": {},
          "execution_count": 11
        },
        {
          "output_type": "display_data",
          "data": {
            "text/plain": [
              "<Figure size 720x360 with 1 Axes>"
            ],
            "image/png": "[encoded data removed]"
          },
          "metadata": {
            "needs_background": "light"
          }
        }
      ]
    },
    {
      "cell_type": "markdown",
      "source": [
        "Plot the data by day."
      ],
      "metadata": {
        "id": "FqPfvAOtl1hm"
      }
    },
    {
      "cell_type": "code",
      "source": [
        "plt.figure(figsize=(10,5))\n",
        "ax = sns.boxplot(x='day', y='gross income', data=df_gross)\n",
        "ax.set_xlabel('Day', fontsize = 16)\n",
        "ax.set_ylabel('Gross Income', fontsize = 16)"
      ],
      "metadata": {
        "colab": {
          "base_uri": "https://localhost:8080/",
          "height": 357
        },
        "id": "tpzC-TSCl8Bd",
        "outputId": "a8e9cfc8-7862-4fe4-a4dd-723a5944ea76"
      },
      "execution_count": 12,
      "outputs": [
        {
          "output_type": "execute_result",
          "data": {
            "text/plain": [
              "Text(0, 0.5, 'Gross Income')"
            ]
          },
          "metadata": {},
          "execution_count": 12
        },
        {
          "output_type": "display_data",
          "data": {
            "text/plain": [
              "<Figure size 720x360 with 1 Axes>"
            ],
            "image/png": "[encoded data removed]"
          },
          "metadata": {
            "needs_background": "light"
          }
        }
      ]
    },
    {
      "cell_type": "markdown",
      "source": [
        "Reduce the noise of data and normalize it using rolling average (moving average). A rolling average (moving average) is a calculation that’s used to smoothen out a noisy dataset by taking the moving mean throughout a particular range. \n"
      ],
      "metadata": {
        "id": "91ts4MvyoKpf"
      }
    },
    {
      "cell_type": "code",
      "source": [
        "#df_gross['Rolling_20'] = df_gross['gross income'].rolling(window=20).mean()\n",
        "#df_gross['Rolling_100'] = df_gross['gross income'].rolling(window=100).mean()"
      ],
      "metadata": {
        "id": "jN5-_J6woTvW"
      },
      "execution_count": 13,
      "outputs": []
    },
    {
      "cell_type": "markdown",
      "source": [
        "Plot the original raw data and the two rolling averages onto a single plot."
      ],
      "metadata": {
        "id": "kTPlefDgq7YA"
      }
    },
    {
      "cell_type": "code",
      "source": [
        "# fig = go.Figure()\n",
        "# fig.add_trace(go.Scatter(x=df_gross['Date'], y=df_gross['gross income'], mode='lines', name='Raw Data', line=dict(color= '#bec2ed')))\n",
        "# fig.add_trace(go.Scatter(x=df_gross['Date'], y=df_gross['Rolling_20'], mode='lines', name='Rolling_20', line=dict(color='#858eed', dash='dash')))\n",
        "# fig.add_trace(go.Scatter(x=df_gross['Date'], y=df_gross['Rolling_100'], mode='lines', name='Rolling_100', line=dict(color='#d99543')))\n",
        "# fig.update_layout(width=800, height=500)\n"
      ],
      "metadata": {
        "id": "DLYplMp_q89_"
      },
      "execution_count": 14,
      "outputs": []
    },
    {
      "cell_type": "markdown",
      "source": [
        "#3. Explore the components of the time series\n",
        "\n",
        "Time series datasets generally consist of four main components: level, long-term trends, seasonality, and irregular noise, which we can break down into a method known as time series decomposition. Series components can be either additive or multiplicative:\n",
        "\n",
        "![image.png](data:image/png;base64,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)"
      ],
      "metadata": {
        "id": "3444Nym5tf6n"
      }
    },
    {
      "cell_type": "markdown",
      "source": [
        "- **Level:** Average values of a dataset over time\n",
        "- **Long-term Trends:** General direction of the data showing an increase or decrease\n",
        "- **Seasonal Trends:** Short-term repetitive nature (days, weeks, months)\n",
        "- **Irregular Trends:** The noise within the data showing random fluctuations\n",
        "\n",
        "These compounds are explored using the statsmodels library."
      ],
      "metadata": {
        "id": "lq9fTBbZuCqt"
      }
    },
    {
      "cell_type": "code",
      "source": [
        "dftmp = pd.DataFrame({'data': df_gross['gross income'].values}, index=df_gross['Date'])\n",
        "dftmp = dftmp.dropna()\n",
        "dftmp.head()\n"
      ],
      "metadata": {
        "colab": {
          "base_uri": "https://localhost:8080/",
          "height": 237
        },
        "id": "1d_LBpgLtj6Q",
        "outputId": "62829158-76cf-4314-87a2-d612b8c30144"
      },
      "execution_count": 15,
      "outputs": [
        {
          "output_type": "execute_result",
          "data": {
            "text/plain": [
              "                       data\n",
              "Date                       \n",
              "2019-01-01 10:39:00  21.783\n",
              "2019-01-01 11:36:00  42.315\n",
              "2019-01-01 11:40:00   8.766\n",
              "2019-01-01 11:43:00   6.287\n",
              "2019-01-01 13:55:00  29.583"
            ],
            "text/html": [
              "\n",
              "  <div id=\"df-c98237a0-01c5-4e18-827d-6d9d1504f4a5\">\n",
              "    <div class=\"colab-df-container\">\n",
              "      <div>\n",
              "<style scoped>\n",
              "    .dataframe tbody tr th:only-of-type {\n",
              "        vertical-align: middle;\n",
              "    }\n",
              "\n",
              "    .dataframe tbody tr th {\n",
              "        vertical-align: top;\n",
              "    }\n",
              "\n",
              "    .dataframe thead th {\n",
              "        text-align: right;\n",
              "    }\n",
              "</style>\n",
              "<table border=\"1\" class=\"dataframe\">\n",
              "  <thead>\n",
              "    <tr style=\"text-align: right;\">\n",
              "      <th></th>\n",
              "      <th>data</th>\n",
              "    </tr>\n",
              "    <tr>\n",
              "      <th>Date</th>\n",
              "      <th></th>\n",
              "    </tr>\n",
              "  </thead>\n",
              "  <tbody>\n",
              "    <tr>\n",
              "      <th>2019-01-01 10:39:00</th>\n",
              "      <td>21.783</td>\n",
              "    </tr>\n",
              "    <tr>\n",
              "      <th>2019-01-01 11:36:00</th>\n",
              "      <td>42.315</td>\n",
              "    </tr>\n",
              "    <tr>\n",
              "      <th>2019-01-01 11:40:00</th>\n",
              "      <td>8.766</td>\n",
              "    </tr>\n",
              "    <tr>\n",
              "      <th>2019-01-01 11:43:00</th>\n",
              "      <td>6.287</td>\n",
              "    </tr>\n",
              "    <tr>\n",
              "      <th>2019-01-01 13:55:00</th>\n",
              "      <td>29.583</td>\n",
              "    </tr>\n",
              "  </tbody>\n",
              "</table>\n",
              "</div>\n",
              "      <button class=\"colab-df-convert\" onclick=\"convertToInteractive('df-c98237a0-01c5-4e18-827d-6d9d1504f4a5')\"\n",
              "              title=\"Convert this dataframe to an interactive table.\"\n",
              "              style=\"display:none;\">\n",
              "        \n",
              "  <svg xmlns=\"http://www.w3.org/2000/svg\" height=\"24px\"viewBox=\"0 0 24 24\"\n",
              "       width=\"24px\">\n",
              "    <path d=\"M0 0h24v24H0V0z\" fill=\"none\"/>\n",
              "    <path d=\"M18.56 5.44l.94 2.06.94-2.06 2.06-.94-2.06-.94-.94-2.06-.94 2.06-2.06.94zm-11 1L8.5 8.5l.94-2.06 2.06-.94-2.06-.94L8.5 2.5l-.94 2.06-2.06.94zm10 10l.94 2.06.94-2.06 2.06-.94-2.06-.94-.94-2.06-.94 2.06-2.06.94z\"/><path d=\"M17.41 7.96l-1.37-1.37c-.4-.4-.92-.59-1.43-.59-.52 0-1.04.2-1.43.59L10.3 9.45l-7.72 7.72c-.78.78-.78 2.05 0 2.83L4 21.41c.39.39.9.59 1.41.59.51 0 1.02-.2 1.41-.59l7.78-7.78 2.81-2.81c.8-.78.8-2.07 0-2.86zM5.41 20L4 18.59l7.72-7.72 1.47 1.35L5.41 20z\"/>\n",
              "  </svg>\n",
              "      </button>\n",
              "      \n",
              "  <style>\n",
              "    .colab-df-container {\n",
              "      display:flex;\n",
              "      flex-wrap:wrap;\n",
              "      gap: 12px;\n",
              "    }\n",
              "\n",
              "    .colab-df-convert {\n",
              "      background-color: #E8F0FE;\n",
              "      border: none;\n",
              "      border-radius: 50%;\n",
              "      cursor: pointer;\n",
              "      display: none;\n",
              "      fill: #1967D2;\n",
              "      height: 32px;\n",
              "      padding: 0 0 0 0;\n",
              "      width: 32px;\n",
              "    }\n",
              "\n",
              "    .colab-df-convert:hover {\n",
              "      background-color: #E2EBFA;\n",
              "      box-shadow: 0px 1px 2px rgba(60, 64, 67, 0.3), 0px 1px 3px 1px rgba(60, 64, 67, 0.15);\n",
              "      fill: #174EA6;\n",
              "    }\n",
              "\n",
              "    [theme=dark] .colab-df-convert {\n",
              "      background-color: #3B4455;\n",
              "      fill: #D2E3FC;\n",
              "    }\n",
              "\n",
              "    [theme=dark] .colab-df-convert:hover {\n",
              "      background-color: #434B5C;\n",
              "      box-shadow: 0px 1px 3px 1px rgba(0, 0, 0, 0.15);\n",
              "      filter: drop-shadow(0px 1px 2px rgba(0, 0, 0, 0.3));\n",
              "      fill: #FFFFFF;\n",
              "    }\n",
              "  </style>\n",
              "\n",
              "      <script>\n",
              "        const buttonEl =\n",
              "          document.querySelector('#df-c98237a0-01c5-4e18-827d-6d9d1504f4a5 button.colab-df-convert');\n",
              "        buttonEl.style.display =\n",
              "          google.colab.kernel.accessAllowed ? 'block' : 'none';\n",
              "\n",
              "        async function convertToInteractive(key) {\n",
              "          const element = document.querySelector('#df-c98237a0-01c5-4e18-827d-6d9d1504f4a5');\n",
              "          const dataTable =\n",
              "            await google.colab.kernel.invokeFunction('convertToInteractive',\n",
              "                                                     [key], {});\n",
              "          if (!dataTable) return;\n",
              "\n",
              "          const docLinkHtml = 'Like what you see? Visit the ' +\n",
              "            '<a target=\"_blank\" href=https://colab.research.google.com/notebooks/data_table.ipynb>data table notebook</a>'\n",
              "            + ' to learn more about interactive tables.';\n",
              "          element.innerHTML = '';\n",
              "          dataTable['output_type'] = 'display_data';\n",
              "          await google.colab.output.renderOutput(dataTable, element);\n",
              "          const docLink = document.createElement('div');\n",
              "          docLink.innerHTML = docLinkHtml;\n",
              "          element.appendChild(docLink);\n",
              "        }\n",
              "      </script>\n",
              "    </div>\n",
              "  </div>\n",
              "  "
            ]
          },
          "metadata": {},
          "execution_count": 15
        }
      ]
    },
    {
      "cell_type": "code",
      "source": [
        "from statsmodels.tsa.seasonal import seasonal_decompose\n",
        "\n",
        "\n",
        "dftmp = dftmp.sort_values(by='Date',ascending=True)\n",
        "result = seasonal_decompose(dftmp, model='multiplicative', period=365)\n",
        "plt.figure(figsize=(50,50))\n",
        "result.plot()\n",
        "plt.show()"
      ],
      "metadata": {
        "colab": {
          "base_uri": "https://localhost:8080/",
          "height": 316
        },
        "id": "v1Fy7c_au2uG",
        "outputId": "8e7b1fdd-9a03-44a6-e101-c539de085a9c"
      },
      "execution_count": 16,
      "outputs": [
        {
          "output_type": "display_data",
          "data": {
            "text/plain": [
              "<Figure size 3600x3600 with 0 Axes>"
            ]
          },
          "metadata": {}
        },
        {
          "output_type": "display_data",
          "data": {
            "text/plain": [
              "<Figure size 432x288 with 4 Axes>"
            ],
            "image/png": "[encoded data removed]"
          },
          "metadata": {
            "needs_background": "light"
          }
        }
      ]
    },
    {
      "cell_type": "markdown",
      "source": [
        "In the first plot, it can be observeed the `gross income` previously calculated. This is then followed by the *long-term* trend, which shows a steady decrease throughout the dataset. The seasonality behind the dataset confirming that `gross income` tend to increase around 15th of each month. Finally, the residual data or noise within the dataset is shown. The noise does not contribute to the other main categories.\n"
      ],
      "metadata": {
        "id": "6t7BSWCVwVjK"
      }
    },
    {
      "cell_type": "markdown",
      "source": [
        "#4. Model \n",
        "##4.1. Prophet\n",
        "One of the greatest benefits behind Prophet is also one of \n",
        "its consequences – its high-level nature of abstraction, allowing users to make a forecast  with only a few lines of code. This limited variability can be a great way to make a quick  forecast but can hinder the model development process.\n",
        "\n"
      ],
      "metadata": {
        "id": "VQt85GEtxNsR"
      }
    },
    {
      "cell_type": "markdown",
      "source": [
        "Reshape the DataFrame to integrate it with the Prophet\n",
        "library. The library expects the DataFrame to contain two columns: ds and y. ds represents the date stamp and y is the value. "
      ],
      "metadata": {
        "id": "R9TZlM3g1pNZ"
      }
    },
    {
      "cell_type": "code",
      "source": [
        "df_prophet = df[['Date', 'gross income']]\n",
        "df_prophet = df_prophet.dropna()\n",
        "df_prophet.columns = ['ds', 'y']"
      ],
      "metadata": {
        "id": "a4_vU0pM10Ge"
      },
      "execution_count": 17,
      "outputs": []
    },
    {
      "cell_type": "markdown",
      "source": [
        " Create an instance of the Prophet model and fit that to our dataset."
      ],
      "metadata": {
        "id": "ZxdA-jAK4j6V"
      }
    },
    {
      "cell_type": "code",
      "source": [
        "from prophet import Prophet\n",
        "m = Prophet()\n",
        "m.fit(df_prophet)\n"
      ],
      "metadata": {
        "colab": {
          "base_uri": "https://localhost:8080/"
        },
        "id": "Ga41Esok4l8W",
        "outputId": "dddb87ae-8e33-410b-83f3-f103088f0843"
      },
      "execution_count": 18,
      "outputs": [
        {
          "output_type": "stream",
          "name": "stderr",
          "text": [
            "INFO:prophet:Disabling yearly seasonality. Run prophet with yearly_seasonality=True to override this.\n",
            "DEBUG:cmdstanpy:input tempfile: /tmp/tmp58g9hm6_/hk86g02k.json\n",
            "DEBUG:cmdstanpy:input tempfile: /tmp/tmp58g9hm6_/yhoohl2i.json\n",
            "DEBUG:cmdstanpy:idx 0\n",
            "DEBUG:cmdstanpy:running CmdStan, num_threads: None\n",
            "DEBUG:cmdstanpy:CmdStan args: ['/usr/local/lib/python3.8/dist-packages/prophet/stan_model/prophet_model.bin', 'random', 'seed=12896', 'data', 'file=/tmp/tmp58g9hm6_/hk86g02k.json', 'init=/tmp/tmp58g9hm6_/yhoohl2i.json', 'output', 'file=/tmp/tmp58g9hm6_/prophet_model3x9trrj_/prophet_model-20221205194507.csv', 'method=optimize', 'algorithm=lbfgs', 'iter=10000']\n",
            "19:45:07 - cmdstanpy - INFO - Chain [1] start processing\n",
            "INFO:cmdstanpy:Chain [1] start processing\n",
            "19:45:07 - cmdstanpy - INFO - Chain [1] done processing\n",
            "INFO:cmdstanpy:Chain [1] done processing\n"
          ]
        },
        {
          "output_type": "execute_result",
          "data": {
            "text/plain": [
              "<prophet.forecaster.Prophet at 0x7f78aa98b370>"
            ]
          },
          "metadata": {},
          "execution_count": 18
        }
      ]
    },
    {
      "cell_type": "markdown",
      "source": [
        "Call the make_future_dataframe() function and the number of pperiods of interest"
      ],
      "metadata": {
        "id": "b8yya2_z47FJ"
      }
    },
    {
      "cell_type": "code",
      "source": [
        "future = m.make_future_dataframe(periods=30*1)\n",
        "\n",
        "forecast = m.predict(future)\n",
        "forecast[['ds', 'yhat', 'yhat_lower', 'yhat_upper']].tail()"
      ],
      "metadata": {
        "colab": {
          "base_uri": "https://localhost:8080/",
          "height": 206
        },
        "id": "YCpGxJx249R0",
        "outputId": "2547f2be-9ced-48b0-d1cc-f68f4fd7e640"
      },
      "execution_count": 19,
      "outputs": [
        {
          "output_type": "execute_result",
          "data": {
            "text/plain": [
              "                      ds       yhat  yhat_lower  yhat_upper\n",
              "1019 2019-04-25 20:37:00  14.996916    0.313486   29.776314\n",
              "1020 2019-04-26 20:37:00  14.513829   -0.401470   29.816296\n",
              "1021 2019-04-27 20:37:00  16.347602    1.616563   30.937785\n",
              "1022 2019-04-28 20:37:00  14.859098    0.080196   30.427171\n",
              "1023 2019-04-29 20:37:00  13.772233   -0.836560   29.475330"
            ],
            "text/html": [
              "\n",
              "  <div id=\"df-0834f012-3aff-4de1-82f9-e29bfd914eb4\">\n",
              "    <div class=\"colab-df-container\">\n",
              "      <div>\n",
              "<style scoped>\n",
              "    .dataframe tbody tr th:only-of-type {\n",
              "        vertical-align: middle;\n",
              "    }\n",
              "\n",
              "    .dataframe tbody tr th {\n",
              "        vertical-align: top;\n",
              "    }\n",
              "\n",
              "    .dataframe thead th {\n",
              "        text-align: right;\n",
              "    }\n",
              "</style>\n",
              "<table border=\"1\" class=\"dataframe\">\n",
              "  <thead>\n",
              "    <tr style=\"text-align: right;\">\n",
              "      <th></th>\n",
              "      <th>ds</th>\n",
              "      <th>yhat</th>\n",
              "      <th>yhat_lower</th>\n",
              "      <th>yhat_upper</th>\n",
              "    </tr>\n",
              "  </thead>\n",
              "  <tbody>\n",
              "    <tr>\n",
              "      <th>1019</th>\n",
              "      <td>2019-04-25 20:37:00</td>\n",
              "      <td>14.996916</td>\n",
              "      <td>0.313486</td>\n",
              "      <td>29.776314</td>\n",
              "    </tr>\n",
              "    <tr>\n",
              "      <th>1020</th>\n",
              "      <td>2019-04-26 20:37:00</td>\n",
              "      <td>14.513829</td>\n",
              "      <td>-0.401470</td>\n",
              "      <td>29.816296</td>\n",
              "    </tr>\n",
              "    <tr>\n",
              "      <th>1021</th>\n",
              "      <td>2019-04-27 20:37:00</td>\n",
              "      <td>16.347602</td>\n",
              "      <td>1.616563</td>\n",
              "      <td>30.937785</td>\n",
              "    </tr>\n",
              "    <tr>\n",
              "      <th>1022</th>\n",
              "      <td>2019-04-28 20:37:00</td>\n",
              "      <td>14.859098</td>\n",
              "      <td>0.080196</td>\n",
              "      <td>30.427171</td>\n",
              "    </tr>\n",
              "    <tr>\n",
              "      <th>1023</th>\n",
              "      <td>2019-04-29 20:37:00</td>\n",
              "      <td>13.772233</td>\n",
              "      <td>-0.836560</td>\n",
              "      <td>29.475330</td>\n",
              "    </tr>\n",
              "  </tbody>\n",
              "</table>\n",
              "</div>\n",
              "      <button class=\"colab-df-convert\" onclick=\"convertToInteractive('df-0834f012-3aff-4de1-82f9-e29bfd914eb4')\"\n",
              "              title=\"Convert this dataframe to an interactive table.\"\n",
              "              style=\"display:none;\">\n",
              "        \n",
              "  <svg xmlns=\"http://www.w3.org/2000/svg\" height=\"24px\"viewBox=\"0 0 24 24\"\n",
              "       width=\"24px\">\n",
              "    <path d=\"M0 0h24v24H0V0z\" fill=\"none\"/>\n",
              "    <path d=\"M18.56 5.44l.94 2.06.94-2.06 2.06-.94-2.06-.94-.94-2.06-.94 2.06-2.06.94zm-11 1L8.5 8.5l.94-2.06 2.06-.94-2.06-.94L8.5 2.5l-.94 2.06-2.06.94zm10 10l.94 2.06.94-2.06 2.06-.94-2.06-.94-.94-2.06-.94 2.06-2.06.94z\"/><path d=\"M17.41 7.96l-1.37-1.37c-.4-.4-.92-.59-1.43-.59-.52 0-1.04.2-1.43.59L10.3 9.45l-7.72 7.72c-.78.78-.78 2.05 0 2.83L4 21.41c.39.39.9.59 1.41.59.51 0 1.02-.2 1.41-.59l7.78-7.78 2.81-2.81c.8-.78.8-2.07 0-2.86zM5.41 20L4 18.59l7.72-7.72 1.47 1.35L5.41 20z\"/>\n",
              "  </svg>\n",
              "      </button>\n",
              "      \n",
              "  <style>\n",
              "    .colab-df-container {\n",
              "      display:flex;\n",
              "      flex-wrap:wrap;\n",
              "      gap: 12px;\n",
              "    }\n",
              "\n",
              "    .colab-df-convert {\n",
              "      background-color: #E8F0FE;\n",
              "      border: none;\n",
              "      border-radius: 50%;\n",
              "      cursor: pointer;\n",
              "      display: none;\n",
              "      fill: #1967D2;\n",
              "      height: 32px;\n",
              "      padding: 0 0 0 0;\n",
              "      width: 32px;\n",
              "    }\n",
              "\n",
              "    .colab-df-convert:hover {\n",
              "      background-color: #E2EBFA;\n",
              "      box-shadow: 0px 1px 2px rgba(60, 64, 67, 0.3), 0px 1px 3px 1px rgba(60, 64, 67, 0.15);\n",
              "      fill: #174EA6;\n",
              "    }\n",
              "\n",
              "    [theme=dark] .colab-df-convert {\n",
              "      background-color: #3B4455;\n",
              "      fill: #D2E3FC;\n",
              "    }\n",
              "\n",
              "    [theme=dark] .colab-df-convert:hover {\n",
              "      background-color: #434B5C;\n",
              "      box-shadow: 0px 1px 3px 1px rgba(0, 0, 0, 0.15);\n",
              "      filter: drop-shadow(0px 1px 2px rgba(0, 0, 0, 0.3));\n",
              "      fill: #FFFFFF;\n",
              "    }\n",
              "  </style>\n",
              "\n",
              "      <script>\n",
              "        const buttonEl =\n",
              "          document.querySelector('#df-0834f012-3aff-4de1-82f9-e29bfd914eb4 button.colab-df-convert');\n",
              "        buttonEl.style.display =\n",
              "          google.colab.kernel.accessAllowed ? 'block' : 'none';\n",
              "\n",
              "        async function convertToInteractive(key) {\n",
              "          const element = document.querySelector('#df-0834f012-3aff-4de1-82f9-e29bfd914eb4');\n",
              "          const dataTable =\n",
              "            await google.colab.kernel.invokeFunction('convertToInteractive',\n",
              "                                                     [key], {});\n",
              "          if (!dataTable) return;\n",
              "\n",
              "          const docLinkHtml = 'Like what you see? Visit the ' +\n",
              "            '<a target=\"_blank\" href=https://colab.research.google.com/notebooks/data_table.ipynb>data table notebook</a>'\n",
              "            + ' to learn more about interactive tables.';\n",
              "          element.innerHTML = '';\n",
              "          dataTable['output_type'] = 'display_data';\n",
              "          await google.colab.output.renderOutput(dataTable, element);\n",
              "          const docLink = document.createElement('div');\n",
              "          docLink.innerHTML = docLinkHtml;\n",
              "          element.appendChild(docLink);\n",
              "        }\n",
              "      </script>\n",
              "    </div>\n",
              "  </div>\n",
              "  "
            ]
          },
          "metadata": {},
          "execution_count": 19
        }
      ]
    },
    {
      "cell_type": "code",
      "source": [
        "fig1 = m.plot(forecast)"
      ],
      "metadata": {
        "colab": {
          "base_uri": "https://localhost:8080/",
          "height": 441
        },
        "id": "U6qkneDA5Tsi",
        "outputId": "a4901fd5-1928-40ff-c379-d54bdc427e4e"
      },
      "execution_count": 20,
      "outputs": [
        {
          "output_type": "display_data",
          "data": {
            "text/plain": [
              "<Figure size 720x432 with 1 Axes>"
            ],
            "image/png": "[encoded data removed]"
          },
          "metadata": {}
        }
      ]
    },
    {
      "cell_type": "markdown",
      "source": [
        "## 4.2. LSTM for time series modeling\n",
        "\n",
        "Use MinMaxScaler from the sklearn library to scale the dataset"
      ],
      "metadata": {
        "id": "lvWZVpil6AxT"
      }
    },
    {
      "cell_type": "code",
      "source": [
        "from sklearn.preprocessing import MinMaxScaler\n",
        "ds = df[['gross income']].values\n",
        "scaler = MinMaxScaler(feature_range=(0, 1))\n",
        "ds = scaler.fit_transform(ds)"
      ],
      "metadata": {
        "id": "48y-wU6B6Civ"
      },
      "execution_count": 21,
      "outputs": []
    },
    {
      "cell_type": "markdown",
      "source": [
        "Split the data into our training and testing sets."
      ],
      "metadata": {
        "id": "I7NsiJnw7Ni4"
      }
    },
    {
      "cell_type": "code",
      "source": [
        "train_size = int(len(ds) * 0.75)\n",
        "test_size = len(ds) - train_size\n",
        "train = ds[0: train_size,:]\n",
        "test = ds[train_size : len(ds), :]\n"
      ],
      "metadata": {
        "id": "XTKiHIWJ7QoH"
      },
      "execution_count": 22,
      "outputs": []
    },
    {
      "cell_type": "markdown",
      "source": [
        "Considering the time series data, it is required to lookback to train the model in iterations. Lookback value as the range of how far back in the data the model should look to train."
      ],
      "metadata": {
        "id": "NqAOw5X77aKG"
      }
    },
    {
      "cell_type": "code",
      "source": [
        "def dataset_generator(df, lookback=0):\n",
        "    df_x = []\n",
        "    df_y = []\n",
        "    \n",
        "    for i in range(len(df) - lookback - 1):\n",
        "        tmp = df[i:(i+lookback), 0]\n",
        "        df_x.append(tmp)\n",
        "        df_y.append(df[i + lookback, 0])\n",
        "        \n",
        "    return np.array(df_x), np.array(df_y)"
      ],
      "metadata": {
        "id": "aaZoN71t7_cd"
      },
      "execution_count": 24,
      "outputs": []
    },
    {
      "cell_type": "code",
      "source": [
        "import numpy as np\n",
        "lookback = 100\n",
        "X_train, y_train = dataset_generator(train, lookback)\n",
        "X_test, y_test = dataset_generator(test, lookback)"
      ],
      "metadata": {
        "id": "1IGCqtx_7s0I"
      },
      "execution_count": 26,
      "outputs": []
    },
    {
      "cell_type": "markdown",
      "source": [
        " Reshape data prior to using the data as input"
      ],
      "metadata": {
        "id": "mZHoYGPW8ij2"
      }
    },
    {
      "cell_type": "code",
      "source": [
        "\n",
        "X_train = np.reshape(X_train, (X_train.shape[0], 1, X_train.shape[1]))\n",
        "X_test = np.reshape(X_test, (X_test.shape[0], 1, X_test.shape[1]))"
      ],
      "metadata": {
        "id": "tkJt8-Ue8j2r"
      },
      "execution_count": 27,
      "outputs": []
    },
    {
      "cell_type": "markdown",
      "source": [
        "Neural Network architecture:\n",
        "1. Sequential class from Keras\n",
        "2. LSTM layer with 3 nodes \n",
        "3. Dense layer with a single output value"
      ],
      "metadata": {
        "id": "fhIXMyuD2Ezi"
      }
    },
    {
      "cell_type": "markdown",
      "source": [],
      "metadata": {
        "id": "lYwYA4rQ2N5O"
      }
    },
    {
      "cell_type": "code",
      "source": [
        "from keras.models import Sequential\n",
        "from keras.layers import Dense\n",
        "from keras.layers import LSTM\n",
        "import tensorflow as tf\n",
        "\n",
        "model = Sequential()\n",
        "model.add(LSTM(2, input_shape=(1, lookback)))\n",
        "model.add(Dense(1))\n",
        "opt = tf.keras.optimizers.Adam(learning_rate=0.001)\n",
        "model.compile(loss='mean_squared_error', optimizer=opt)\n",
        "model.summary()"
      ],
      "metadata": {
        "colab": {
          "base_uri": "https://localhost:8080/"
        },
        "id": "tqqgqOOV19Vq",
        "outputId": "bb60ca43-a04c-4367-eb8b-59a1e27c7ed9"
      },
      "execution_count": 50,
      "outputs": [
        {
          "output_type": "stream",
          "name": "stdout",
          "text": [
            "Model: \"sequential_10\"\n",
            "_________________________________________________________________\n",
            " Layer (type)                Output Shape              Param #   \n",
            "=================================================================\n",
            " lstm_10 (LSTM)              (None, 2)                 824       \n",
            "                                                                 \n",
            " dense_10 (Dense)            (None, 1)                 3         \n",
            "                                                                 \n",
            "=================================================================\n",
            "Total params: 827\n",
            "Trainable params: 827\n",
            "Non-trainable params: 0\n",
            "_________________________________________________________________\n"
          ]
        }
      ]
    },
    {
      "cell_type": "markdown",
      "source": [
        " fit() function to fit the model on the training dataset for 100 epochs."
      ],
      "metadata": {
        "id": "IV9y46go3Idk"
      }
    },
    {
      "cell_type": "code",
      "source": [
        "history = model.fit(X_train, y_train, epochs=100, batch_size=1, verbose=2)"
      ],
      "metadata": {
        "colab": {
          "base_uri": "https://localhost:8080/"
        },
        "id": "3qNXJqp-3CTe",
        "outputId": "aaf5b997-fb15-4c56-bcd7-d0498199afad"
      },
      "execution_count": 51,
      "outputs": [
        {
          "output_type": "stream",
          "name": "stdout",
          "text": [
            "Epoch 1/100\n",
            "649/649 - 3s - loss: 0.0621 - 3s/epoch - 4ms/step\n",
            "Epoch 2/100\n",
            "649/649 - 1s - loss: 0.0545 - 1s/epoch - 2ms/step\n",
            "Epoch 3/100\n",
            "649/649 - 1s - loss: 0.0534 - 1s/epoch - 2ms/step\n",
            "Epoch 4/100\n",
            "649/649 - 1s - loss: 0.0521 - 1s/epoch - 2ms/step\n",
            "Epoch 5/100\n",
            "649/649 - 1s - loss: 0.0507 - 1s/epoch - 2ms/step\n",
            "Epoch 6/100\n",
            "649/649 - 1s - loss: 0.0501 - 1s/epoch - 2ms/step\n",
            "Epoch 7/100\n",
            "649/649 - 1s - loss: 0.0491 - 1s/epoch - 2ms/step\n",
            "Epoch 8/100\n",
            "649/649 - 1s - loss: 0.0492 - 1s/epoch - 2ms/step\n",
            "Epoch 9/100\n",
            "649/649 - 1s - loss: 0.0485 - 1s/epoch - 2ms/step\n",
            "Epoch 10/100\n",
            "649/649 - 1s - loss: 0.0474 - 1s/epoch - 2ms/step\n",
            "Epoch 11/100\n",
            "649/649 - 1s - loss: 0.0475 - 1s/epoch - 2ms/step\n",
            "Epoch 12/100\n",
            "649/649 - 1s - loss: 0.0462 - 1s/epoch - 2ms/step\n",
            "Epoch 13/100\n",
            "649/649 - 1s - loss: 0.0465 - 1s/epoch - 2ms/step\n",
            "Epoch 14/100\n",
            "649/649 - 1s - loss: 0.0460 - 1s/epoch - 2ms/step\n",
            "Epoch 15/100\n",
            "649/649 - 1s - loss: 0.0455 - 1s/epoch - 2ms/step\n",
            "Epoch 16/100\n",
            "649/649 - 1s - loss: 0.0450 - 1s/epoch - 2ms/step\n",
            "Epoch 17/100\n",
            "649/649 - 2s - loss: 0.0447 - 2s/epoch - 3ms/step\n",
            "Epoch 18/100\n",
            "649/649 - 1s - loss: 0.0437 - 1s/epoch - 2ms/step\n",
            "Epoch 19/100\n",
            "649/649 - 1s - loss: 0.0444 - 1s/epoch - 2ms/step\n",
            "Epoch 20/100\n",
            "649/649 - 1s - loss: 0.0440 - 1s/epoch - 2ms/step\n",
            "Epoch 21/100\n",
            "649/649 - 1s - loss: 0.0430 - 1s/epoch - 2ms/step\n",
            "Epoch 22/100\n",
            "649/649 - 1s - loss: 0.0420 - 1s/epoch - 2ms/step\n",
            "Epoch 23/100\n",
            "649/649 - 1s - loss: 0.0427 - 1s/epoch - 2ms/step\n",
            "Epoch 24/100\n",
            "649/649 - 1s - loss: 0.0417 - 1s/epoch - 2ms/step\n",
            "Epoch 25/100\n",
            "649/649 - 1s - loss: 0.0405 - 1s/epoch - 2ms/step\n",
            "Epoch 26/100\n",
            "649/649 - 1s - loss: 0.0402 - 1s/epoch - 2ms/step\n",
            "Epoch 27/100\n",
            "649/649 - 1s - loss: 0.0402 - 1s/epoch - 2ms/step\n",
            "Epoch 28/100\n",
            "649/649 - 1s - loss: 0.0397 - 1s/epoch - 2ms/step\n",
            "Epoch 29/100\n",
            "649/649 - 1s - loss: 0.0389 - 1s/epoch - 2ms/step\n",
            "Epoch 30/100\n",
            "649/649 - 1s - loss: 0.0385 - 1s/epoch - 2ms/step\n",
            "Epoch 31/100\n",
            "649/649 - 1s - loss: 0.0379 - 1s/epoch - 2ms/step\n",
            "Epoch 32/100\n",
            "649/649 - 1s - loss: 0.0375 - 1s/epoch - 2ms/step\n",
            "Epoch 33/100\n",
            "649/649 - 1s - loss: 0.0369 - 1s/epoch - 2ms/step\n",
            "Epoch 34/100\n",
            "649/649 - 1s - loss: 0.0361 - 1s/epoch - 2ms/step\n",
            "Epoch 35/100\n",
            "649/649 - 1s - loss: 0.0355 - 1s/epoch - 2ms/step\n",
            "Epoch 36/100\n",
            "649/649 - 1s - loss: 0.0351 - 1s/epoch - 2ms/step\n",
            "Epoch 37/100\n",
            "649/649 - 1s - loss: 0.0341 - 1s/epoch - 2ms/step\n",
            "Epoch 38/100\n",
            "649/649 - 1s - loss: 0.0336 - 1s/epoch - 2ms/step\n",
            "Epoch 39/100\n",
            "649/649 - 1s - loss: 0.0334 - 1s/epoch - 2ms/step\n",
            "Epoch 40/100\n",
            "649/649 - 1s - loss: 0.0333 - 1s/epoch - 2ms/step\n",
            "Epoch 41/100\n",
            "649/649 - 1s - loss: 0.0321 - 1s/epoch - 2ms/step\n",
            "Epoch 42/100\n",
            "649/649 - 1s - loss: 0.0319 - 1s/epoch - 2ms/step\n",
            "Epoch 43/100\n",
            "649/649 - 1s - loss: 0.0306 - 1s/epoch - 2ms/step\n",
            "Epoch 44/100\n",
            "649/649 - 1s - loss: 0.0305 - 1s/epoch - 2ms/step\n",
            "Epoch 45/100\n",
            "649/649 - 1s - loss: 0.0304 - 1s/epoch - 2ms/step\n",
            "Epoch 46/100\n",
            "649/649 - 1s - loss: 0.0296 - 1s/epoch - 2ms/step\n",
            "Epoch 47/100\n",
            "649/649 - 1s - loss: 0.0290 - 1s/epoch - 2ms/step\n",
            "Epoch 48/100\n",
            "649/649 - 1s - loss: 0.0289 - 1s/epoch - 2ms/step\n",
            "Epoch 49/100\n",
            "649/649 - 1s - loss: 0.0279 - 1s/epoch - 2ms/step\n",
            "Epoch 50/100\n",
            "649/649 - 1s - loss: 0.0281 - 1s/epoch - 2ms/step\n",
            "Epoch 51/100\n",
            "649/649 - 1s - loss: 0.0273 - 1s/epoch - 2ms/step\n",
            "Epoch 52/100\n",
            "649/649 - 2s - loss: 0.0268 - 2s/epoch - 3ms/step\n",
            "Epoch 53/100\n",
            "649/649 - 2s - loss: 0.0262 - 2s/epoch - 3ms/step\n",
            "Epoch 54/100\n",
            "649/649 - 2s - loss: 0.0261 - 2s/epoch - 3ms/step\n",
            "Epoch 55/100\n",
            "649/649 - 1s - loss: 0.0262 - 1s/epoch - 2ms/step\n",
            "Epoch 56/100\n",
            "649/649 - 1s - loss: 0.0254 - 1s/epoch - 2ms/step\n",
            "Epoch 57/100\n",
            "649/649 - 2s - loss: 0.0250 - 2s/epoch - 3ms/step\n",
            "Epoch 58/100\n",
            "649/649 - 1s - loss: 0.0245 - 1s/epoch - 2ms/step\n",
            "Epoch 59/100\n",
            "649/649 - 1s - loss: 0.0243 - 1s/epoch - 2ms/step\n",
            "Epoch 60/100\n",
            "649/649 - 1s - loss: 0.0240 - 1s/epoch - 2ms/step\n",
            "Epoch 61/100\n",
            "649/649 - 1s - loss: 0.0240 - 1s/epoch - 2ms/step\n",
            "Epoch 62/100\n",
            "649/649 - 1s - loss: 0.0234 - 1s/epoch - 2ms/step\n",
            "Epoch 63/100\n",
            "649/649 - 1s - loss: 0.0231 - 1s/epoch - 2ms/step\n",
            "Epoch 64/100\n",
            "649/649 - 1s - loss: 0.0224 - 1s/epoch - 2ms/step\n",
            "Epoch 65/100\n",
            "649/649 - 1s - loss: 0.0228 - 1s/epoch - 2ms/step\n",
            "Epoch 66/100\n",
            "649/649 - 1s - loss: 0.0223 - 1s/epoch - 2ms/step\n",
            "Epoch 67/100\n",
            "649/649 - 1s - loss: 0.0221 - 1s/epoch - 2ms/step\n",
            "Epoch 68/100\n",
            "649/649 - 1s - loss: 0.0219 - 1s/epoch - 2ms/step\n",
            "Epoch 69/100\n",
            "649/649 - 1s - loss: 0.0209 - 1s/epoch - 2ms/step\n",
            "Epoch 70/100\n",
            "649/649 - 1s - loss: 0.0212 - 1s/epoch - 2ms/step\n",
            "Epoch 71/100\n",
            "649/649 - 1s - loss: 0.0208 - 1s/epoch - 2ms/step\n",
            "Epoch 72/100\n",
            "649/649 - 1s - loss: 0.0210 - 1s/epoch - 2ms/step\n",
            "Epoch 73/100\n",
            "649/649 - 1s - loss: 0.0201 - 1s/epoch - 2ms/step\n",
            "Epoch 74/100\n",
            "649/649 - 1s - loss: 0.0204 - 1s/epoch - 2ms/step\n",
            "Epoch 75/100\n",
            "649/649 - 1s - loss: 0.0198 - 1s/epoch - 2ms/step\n",
            "Epoch 76/100\n",
            "649/649 - 1s - loss: 0.0196 - 1s/epoch - 2ms/step\n",
            "Epoch 77/100\n",
            "649/649 - 1s - loss: 0.0200 - 1s/epoch - 2ms/step\n",
            "Epoch 78/100\n",
            "649/649 - 1s - loss: 0.0190 - 1s/epoch - 2ms/step\n",
            "Epoch 79/100\n",
            "649/649 - 1s - loss: 0.0189 - 1s/epoch - 2ms/step\n",
            "Epoch 80/100\n",
            "649/649 - 1s - loss: 0.0189 - 1s/epoch - 2ms/step\n",
            "Epoch 81/100\n",
            "649/649 - 1s - loss: 0.0185 - 1s/epoch - 2ms/step\n",
            "Epoch 82/100\n",
            "649/649 - 1s - loss: 0.0181 - 1s/epoch - 2ms/step\n",
            "Epoch 83/100\n",
            "649/649 - 1s - loss: 0.0181 - 1s/epoch - 2ms/step\n",
            "Epoch 84/100\n",
            "649/649 - 1s - loss: 0.0176 - 1s/epoch - 2ms/step\n",
            "Epoch 85/100\n",
            "649/649 - 1s - loss: 0.0179 - 1s/epoch - 2ms/step\n",
            "Epoch 86/100\n",
            "649/649 - 1s - loss: 0.0171 - 1s/epoch - 2ms/step\n",
            "Epoch 87/100\n",
            "649/649 - 1s - loss: 0.0173 - 1s/epoch - 2ms/step\n",
            "Epoch 88/100\n",
            "649/649 - 1s - loss: 0.0168 - 1s/epoch - 2ms/step\n",
            "Epoch 89/100\n",
            "649/649 - 1s - loss: 0.0164 - 1s/epoch - 2ms/step\n",
            "Epoch 90/100\n",
            "649/649 - 1s - loss: 0.0166 - 1s/epoch - 2ms/step\n",
            "Epoch 91/100\n",
            "649/649 - 1s - loss: 0.0163 - 1s/epoch - 2ms/step\n",
            "Epoch 92/100\n",
            "649/649 - 1s - loss: 0.0159 - 1s/epoch - 2ms/step\n",
            "Epoch 93/100\n",
            "649/649 - 1s - loss: 0.0159 - 1s/epoch - 2ms/step\n",
            "Epoch 94/100\n",
            "649/649 - 1s - loss: 0.0158 - 1s/epoch - 2ms/step\n",
            "Epoch 95/100\n",
            "649/649 - 1s - loss: 0.0152 - 1s/epoch - 2ms/step\n",
            "Epoch 96/100\n",
            "649/649 - 1s - loss: 0.0153 - 1s/epoch - 2ms/step\n",
            "Epoch 97/100\n",
            "649/649 - 1s - loss: 0.0157 - 1s/epoch - 2ms/step\n",
            "Epoch 98/100\n",
            "649/649 - 1s - loss: 0.0147 - 1s/epoch - 2ms/step\n",
            "Epoch 99/100\n",
            "649/649 - 1s - loss: 0.0146 - 1s/epoch - 2ms/step\n",
            "Epoch 100/100\n",
            "649/649 - 1s - loss: 0.0145 - 1s/epoch - 2ms/step\n"
          ]
        }
      ]
    },
    {
      "cell_type": "code",
      "source": [
        "plt.figure(figsize=(10,6))\n",
        "plt.plot(history.history['loss'], linewidth=2)\n",
        "plt.title('Model Loss', fontsize=15)\n",
        "plt.xlabel('# Epochs', fontsize=15)\n",
        "plt.ylabel('Mean Squared Error', fontsize=15)\n"
      ],
      "metadata": {
        "colab": {
          "base_uri": "https://localhost:8080/",
          "height": 429
        },
        "id": "ZxRMbSq038wS",
        "outputId": "741a1400-91dc-4ca1-bf8e-3e48a9666ae1"
      },
      "execution_count": 52,
      "outputs": [
        {
          "output_type": "execute_result",
          "data": {
            "text/plain": [
              "Text(0, 0.5, 'Mean Squared Error')"
            ]
          },
          "metadata": {},
          "execution_count": 52
        },
        {
          "output_type": "display_data",
          "data": {
            "text/plain": [
              "<Figure size 720x432 with 1 Axes>"
            ],
            "image/png": "[encoded data removed]"
          },
          "metadata": {
            "needs_background": "light"
          }
        }
      ]
    },
    {
      "cell_type": "markdown",
      "source": [
        "Forecast the values of interest."
      ],
      "metadata": {
        "id": "E4mzx5NC6nVm"
      }
    },
    {
      "cell_type": "code",
      "source": [
        "X_train_forecast = scaler.inverse_transform(model.predict(X_train))\n",
        "y_train = scaler.inverse_transform([y_train.ravel()])\n",
        "\n",
        "X_test_forecast = scaler.inverse_transform(model.predict(X_test))\n",
        "y_test = scaler.inverse_transform([y_test.ravel()])"
      ],
      "metadata": {
        "colab": {
          "base_uri": "https://localhost:8080/"
        },
        "id": "damcUSZa6o3y",
        "outputId": "dd56e724-c46f-4f69-e2ea-43445e4edc4b"
      },
      "execution_count": 53,
      "outputs": [
        {
          "output_type": "stream",
          "name": "stdout",
          "text": [
            "21/21 [==============================] - 1s 4ms/step\n",
            "5/5 [==============================] - 0s 9ms/step\n"
          ]
        }
      ]
    },
    {
      "cell_type": "code",
      "source": [
        "plt.figure(figsize=(10,6))\n",
        "\n",
        "# Plot original dataset:\n",
        "plt.plot(list(range(0, len(ds))), scaler.inverse_transform(ds), label=\"Original\", color=\"lightgrey\")\n",
        "\n",
        "# Plot training data:\n",
        "train_y_plot = X_train_forecast\n",
        "train_x_plot = [i+lookback for i in list(range(0, len(X_train_forecast)))]\n",
        "plt.plot(train_x_plot, train_y_plot , label=\"Train\", color=\"blue\")\n",
        "\n",
        "# Plot forecasted data:\n",
        "test_y_plot = X_test_forecast\n",
        "test_x_plot = [i+lookback*2 for i in list(range(len(X_train_forecast), len(X_train_forecast)+len(X_test_forecast)))]\n",
        "plt.plot(test_x_plot, test_y_plot , label=\"Forecast\", color=\"darkorange\", linewidth=2, linestyle=\"--\")\n",
        "\n",
        "plt.legend()"
      ],
      "metadata": {
        "colab": {
          "base_uri": "https://localhost:8080/",
          "height": 392
        },
        "id": "tpoH2vHn60Gr",
        "outputId": "13b73a8a-6554-4642-e478-75423e11745b"
      },
      "execution_count": 54,
      "outputs": [
        {
          "output_type": "execute_result",
          "data": {
            "text/plain": [
              "<matplotlib.legend.Legend at 0x7f7845cbcfd0>"
            ]
          },
          "metadata": {},
          "execution_count": 54
        },
        {
          "output_type": "display_data",
          "data": {
            "text/plain": [
              "<Figure size 720x432 with 1 Axes>"
            ],
            "image/png": "[encoded data removed]"
          },
          "metadata": {
            "needs_background": "light"
          }
        }
      ]
    },
    {
      "cell_type": "markdown",
      "source": [
        "LSTM model was quite effective in making a forecast using the provided training dataset. The model was not only able to capture the general direction of the values, but also managed to capture the seasonality of the values as well."
      ],
      "metadata": {
        "id": "nQShWzLl8a7c"
      }
    },
    {
      "cell_type": "markdown",
      "source": [
        "Credits:\n",
        "- [\n",
        "Machine Learning in Biotechnology and Life Sciences](https://github.com/PacktPublishing/Machine-Learning-in-Biotechnology-and-Life-Sciences/blob/main/chapters/chapter10/chapter10%20-%20LSTM%20Forecasting.ipynb)"
      ],
      "metadata": {
        "id": "BtXuMcLU9s3F"
      }
    }
  ]
}